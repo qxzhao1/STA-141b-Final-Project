{
 "cells": [
  {
   "cell_type": "code",
   "execution_count": 1,
   "metadata": {
    "collapsed": true
   },
   "outputs": [],
   "source": [
    "import lxml.html as lx\n",
    "import pandas as pd\n",
    "import requests\n",
    "import requests_cache\n",
    "import re\n",
    "import requests\n",
    "import requests_ftp\n",
    "import requests_cache\n",
    "import lxml\n",
    "from bs4 import BeautifulSoup\n",
    "from collections import Counter\n",
    "from matplotlib import pyplot as plt\n",
    "import pandas as pd\n",
    "plt.style.use('ggplot')\n",
    "requests_cache.install_cache('coll_cache')\n",
    "%matplotlib inline"
   ]
  },
  {
   "cell_type": "code",
   "execution_count": 13,
   "metadata": {
    "collapsed": true
   },
   "outputs": [],
   "source": [
    "def myfun(urlbase):\n",
    "    #urlbase = \"https://www.the-numbers.com/person/25200401-D-J-Caruso#tab=summary\"\n",
    "    want1= requests.get(urlbase)\n",
    "    want2 =want1.text\n",
    "    want3 =BeautifulSoup(want2,'lxml-xml')\n",
    "    want4=want3.find_all(href=re.compile(\"box-office-star-record\"))\n",
    "    result1=set([want4[i].text for x in want4 for i in range(0,len(want4))])\n",
    "    want5=want3.find_all(align=re.compile(\"right\"))\n",
    "    result2=[want5[i].text for x in want4 for i in range(0,len(want5))][0:len(result1)]\n",
    "\n",
    "    want6=want3.find_all(name=\"td\",attrs={'class':'alnright'})\n",
    "    result3=[want6[i].text for x in want6 for i in range(1,4)][0:3]\n",
    "    return result3"
   ]
  },
  {
   "cell_type": "markdown",
   "metadata": {},
   "source": [
    "for director"
   ]
  },
  {
   "cell_type": "code",
   "execution_count": 19,
   "metadata": {},
   "outputs": [],
   "source": [
    "link=[\"https://www.the-numbers.com/person/25200401-D-J-Caruso#tab=summary\",\n",
    "      \"https://www.the-numbers.com/person/205050401-Dean-Devlin#tab=summary\",\n",
    "      \"https://www.the-numbers.com/person/57580401-F-Gary-Gray#tab=summary\",\n",
    "      \"https://www.the-numbers.com/person/80570401-Alex-Kurtzman#tab=summary\",\n",
    "      \"https://www.the-numbers.com/person/11530401-Michael-Bay#tab=summary\",\n",
    "      \"https://www.the-numbers.com/person/921510401-Joachim-Ronnin#tab=summary\",\n",
    "      \"https://www.the-numbers.com/person/60610401-Lasse-HallstrA-m#tab=summary\"]\n",
    "Domestic=[]\n",
    "International=[]\n",
    "Worldwide=[]\n",
    "for l in link:\n",
    "    x=myfun(l)\n",
    "    d=x[0]\n",
    "    i=x[1]\n",
    "    w=x[2]\n",
    "    Domestic.append(d)\n",
    "    International.append(i) \n",
    "    Worldwide.append(w)"
   ]
  },
  {
   "cell_type": "code",
   "execution_count": 23,
   "metadata": {},
   "outputs": [
    {
     "data": {
      "text/plain": [
       "['xXx: Return of Xander Cage',\n",
       " 'Geostorm',\n",
       " 'The Fate of the Furious',\n",
       " 'The Mummy',\n",
       " 'Transformers: The Last Knight',\n",
       " 'Pirates of the Caribbean: Dead Men Tell No Tales',\n",
       " 'A Dog’s Purpose',\n",
       " 'xXx: Return of Xander Cage',\n",
       " 'Geostorm',\n",
       " 'The Fate of the Furious',\n",
       " 'The Mummy',\n",
       " 'Transformers: The Last Knight',\n",
       " 'Pirates of the Caribbean: Dead Men Tell No Tales',\n",
       " 'A Dog’s Purpose']"
      ]
     },
     "execution_count": 23,
     "metadata": {},
     "output_type": "execute_result"
    }
   ],
   "source": [
    "Name=Name*2"
   ]
  },
  {
   "cell_type": "code",
   "execution_count": 24,
   "metadata": {},
   "outputs": [
    {
     "data": {
      "text/html": [
       "<div>\n",
       "<style scoped>\n",
       "    .dataframe tbody tr th:only-of-type {\n",
       "        vertical-align: middle;\n",
       "    }\n",
       "\n",
       "    .dataframe tbody tr th {\n",
       "        vertical-align: top;\n",
       "    }\n",
       "\n",
       "    .dataframe thead th {\n",
       "        text-align: right;\n",
       "    }\n",
       "</style>\n",
       "<table border=\"1\" class=\"dataframe\">\n",
       "  <thead>\n",
       "    <tr style=\"text-align: right;\">\n",
       "      <th></th>\n",
       "      <th>Name</th>\n",
       "      <th>Domestic(director)</th>\n",
       "      <th>International(director)</th>\n",
       "      <th>Worldwide(director)</th>\n",
       "    </tr>\n",
       "  </thead>\n",
       "  <tbody>\n",
       "    <tr>\n",
       "      <th>0</th>\n",
       "      <td>xXx: Return of Xander Cage</td>\n",
       "      <td>$341,032,453</td>\n",
       "      <td>$545,426,963</td>\n",
       "      <td>$886,459,416</td>\n",
       "    </tr>\n",
       "    <tr>\n",
       "      <th>1</th>\n",
       "      <td>Geostorm</td>\n",
       "      <td>$809,318,256</td>\n",
       "      <td>$1,480,685,100</td>\n",
       "      <td>$2,290,003,356</td>\n",
       "    </tr>\n",
       "    <tr>\n",
       "      <th>2</th>\n",
       "      <td>The Fate of the Furious</td>\n",
       "      <td>$757,018,128</td>\n",
       "      <td>$1,241,886,899</td>\n",
       "      <td>$1,998,905,027</td>\n",
       "    </tr>\n",
       "    <tr>\n",
       "      <th>3</th>\n",
       "      <td>The Mummy</td>\n",
       "      <td>$1,738,416,625</td>\n",
       "      <td>$2,258,987,757</td>\n",
       "      <td>$3,997,404,382</td>\n",
       "    </tr>\n",
       "    <tr>\n",
       "      <th>4</th>\n",
       "      <td>Transformers: The Last Knight</td>\n",
       "      <td>$1,255,682,482</td>\n",
       "      <td>$1,587,645,612</td>\n",
       "      <td>$2,843,328,094</td>\n",
       "    </tr>\n",
       "    <tr>\n",
       "      <th>5</th>\n",
       "      <td>Pirates of the Caribbean: Dead Men Tell No Tales</td>\n",
       "      <td>$172,558,876</td>\n",
       "      <td>$622,200,000</td>\n",
       "      <td>$794,758,876</td>\n",
       "    </tr>\n",
       "    <tr>\n",
       "      <th>6</th>\n",
       "      <td>A Dog’s Purpose</td>\n",
       "      <td>$529,512,669</td>\n",
       "      <td>$523,863,020</td>\n",
       "      <td>$1,053,375,689</td>\n",
       "    </tr>\n",
       "  </tbody>\n",
       "</table>\n",
       "</div>"
      ],
      "text/plain": [
       "                                               Name Domestic(director)  \\\n",
       "0                        xXx: Return of Xander Cage       $341,032,453   \n",
       "1                                          Geostorm       $809,318,256   \n",
       "2                           The Fate of the Furious       $757,018,128   \n",
       "3                                         The Mummy     $1,738,416,625   \n",
       "4                     Transformers: The Last Knight     $1,255,682,482   \n",
       "5  Pirates of the Caribbean: Dead Men Tell No Tales       $172,558,876   \n",
       "6                                   A Dog’s Purpose       $529,512,669   \n",
       "\n",
       "  International(director) Worldwide(director)  \n",
       "0            $545,426,963        $886,459,416  \n",
       "1          $1,480,685,100      $2,290,003,356  \n",
       "2          $1,241,886,899      $1,998,905,027  \n",
       "3          $2,258,987,757      $3,997,404,382  \n",
       "4          $1,587,645,612      $2,843,328,094  \n",
       "5            $622,200,000        $794,758,876  \n",
       "6            $523,863,020      $1,053,375,689  "
      ]
     },
     "execution_count": 24,
     "metadata": {},
     "output_type": "execute_result"
    }
   ],
   "source": [
    "Name=[\"xXx: Return of Xander Cage\",\n",
    "      \"Geostorm\",\n",
    "      \"The Fate of the Furious\",\n",
    "      \"The Mummy\",\n",
    "      \"Transformers: The Last Knight\",\n",
    "      \"Pirates of the Caribbean: Dead Men Tell No Tales\",\n",
    "      \"A Dog’s Purpose\"]\n",
    "dict={'Name':Name,\n",
    "      'Domestic(director)':Domestic,\n",
    "      'International(director)':International,\n",
    "      'Worldwide(director)':Worldwide}\n",
    "Director=pd.DataFrame(dict)\n",
    "Director=Director[['Name', 'Domestic(director)', 'International(director)','Worldwide(director)']]\n",
    "Director"
   ]
  },
  {
   "cell_type": "markdown",
   "metadata": {},
   "source": [
    "for the firest two leading actors."
   ]
  },
  {
   "cell_type": "code",
   "execution_count": 28,
   "metadata": {},
   "outputs": [],
   "source": [
    "LeadindActor1=[\"https://www.the-numbers.com/person/39880401-Vin-Diesel#tab=summary\",\n",
    "               \"https://www.the-numbers.com/person/22060401-Gerard-Butler\",\n",
    "               'https://www.the-numbers.com/person/39880401-Vin-Diesel',\n",
    "               'https://www.the-numbers.com/person/540401-Tom-Cruise',\n",
    "               \"https://www.the-numbers.com/person/1650401-Mark-Wahlberg#tab=summary\",\n",
    "               'https://www.the-numbers.com/person/580401-Johnny-Depp#tab=summary',\n",
    "               'https://www.the-numbers.com/person/11530401-Michael-Bay#tab=summary']\n",
    "\n",
    "LeadingActor2=[\"https://www.the-numbers.com/person/155860401-Donnie-Yen#tab=summary\",\n",
    "               \"https://www.the-numbers.com/person/1159650401-Talitha-Bateman\",\n",
    "               \"https://www.the-numbers.com/person/72720401-Dwayne-Johnson\",\n",
    "               \"https://www.the-numbers.com/person/487260401-Annabelle-Wallis\",\n",
    "               \"https://www.the-numbers.com/person/34210401-Peter-Cullen#tab=summary\",\n",
    "               \"https://www.the-numbers.com/person/10110401-Javier-Bardem#tab=summary\",\n",
    "               \"https://www.the-numbers.com/person/60610401-Lasse-HallstrA-m#tab=summary\"]\n",
    "Actor=LeadindActor1+LeadingActor2\n"
   ]
  },
  {
   "cell_type": "code",
   "execution_count": 39,
   "metadata": {},
   "outputs": [
    {
     "data": {
      "text/plain": [
       "['$1,323,338,433', '$3,830,289,378', '$5,153,627,811']"
      ]
     },
     "execution_count": 39,
     "metadata": {},
     "output_type": "execute_result"
    }
   ],
   "source": [
    "x=myfun(\"https://www.the-numbers.com/person/39880401-Vin-Diesel\")\n",
    "x"
   ]
  },
  {
   "cell_type": "code",
   "execution_count": 31,
   "metadata": {},
   "outputs": [
    {
     "ename": "IndexError",
     "evalue": "list index out of range",
     "output_type": "error",
     "traceback": [
      "\u001b[1;31m---------------------------------------------------------------------------\u001b[0m",
      "\u001b[1;31mIndexError\u001b[0m                                Traceback (most recent call last)",
      "\u001b[1;32m<ipython-input-31-447c54b635d7>\u001b[0m in \u001b[0;36m<module>\u001b[1;34m()\u001b[0m\n\u001b[0;32m      4\u001b[0m \u001b[1;32mfor\u001b[0m \u001b[0ml\u001b[0m \u001b[1;32min\u001b[0m \u001b[0mActor\u001b[0m\u001b[1;33m:\u001b[0m\u001b[1;33m\u001b[0m\u001b[0m\n\u001b[0;32m      5\u001b[0m     \u001b[0mx\u001b[0m\u001b[1;33m=\u001b[0m\u001b[0mmyfun\u001b[0m\u001b[1;33m(\u001b[0m\u001b[0ml\u001b[0m\u001b[1;33m)\u001b[0m\u001b[1;33m\u001b[0m\u001b[0m\n\u001b[1;32m----> 6\u001b[1;33m     \u001b[0md\u001b[0m\u001b[1;33m=\u001b[0m\u001b[0mx\u001b[0m\u001b[1;33m[\u001b[0m\u001b[1;36m0\u001b[0m\u001b[1;33m]\u001b[0m\u001b[1;33m\u001b[0m\u001b[0m\n\u001b[0m\u001b[0;32m      7\u001b[0m     \u001b[0mi\u001b[0m\u001b[1;33m=\u001b[0m\u001b[0mx\u001b[0m\u001b[1;33m[\u001b[0m\u001b[1;36m1\u001b[0m\u001b[1;33m]\u001b[0m\u001b[1;33m\u001b[0m\u001b[0m\n\u001b[0;32m      8\u001b[0m     \u001b[0mw\u001b[0m\u001b[1;33m=\u001b[0m\u001b[0mx\u001b[0m\u001b[1;33m[\u001b[0m\u001b[1;36m2\u001b[0m\u001b[1;33m]\u001b[0m\u001b[1;33m\u001b[0m\u001b[0m\n",
      "\u001b[1;31mIndexError\u001b[0m: list index out of range"
     ]
    }
   ],
   "source": [
    "Domestic=[]\n",
    "International=[]\n",
    "Worldwide=[]\n",
    "for l in Actor:\n",
    "    x=myfun(l)\n",
    "    d=x[0]\n",
    "    i=x[1]\n",
    "    w=x[2]\n",
    "    Domestic.append(d)\n",
    "    International.append(i) \n",
    "    Worldwide.append(w)"
   ]
  }
 ],
 "metadata": {
  "kernelspec": {
   "display_name": "Python 3",
   "language": "python",
   "name": "python3"
  },
  "language_info": {
   "codemirror_mode": {
    "name": "ipython",
    "version": 3
   },
   "file_extension": ".py",
   "mimetype": "text/x-python",
   "name": "python",
   "nbconvert_exporter": "python",
   "pygments_lexer": "ipython3",
   "version": "3.6.4"
  }
 },
 "nbformat": 4,
 "nbformat_minor": 2
}
