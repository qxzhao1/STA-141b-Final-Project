{
 "cells": [
  {
   "cell_type": "code",
   "execution_count": 1,
   "metadata": {},
   "outputs": [
    {
     "data": {
      "text/html": [
       "\n",
       "    <div class=\"bk-root\">\n",
       "        <a href=\"https://bokeh.pydata.org\" target=\"_blank\" class=\"bk-logo bk-logo-small bk-logo-notebook\"></a>\n",
       "        <span id=\"dce0769f-6d6d-4ab2-a3ed-3dcfa7e212ec\">Loading BokehJS ...</span>\n",
       "    </div>"
      ]
     },
     "metadata": {},
     "output_type": "display_data"
    },
    {
     "data": {
      "application/javascript": [
       "\n",
       "(function(root) {\n",
       "  function now() {\n",
       "    return new Date();\n",
       "  }\n",
       "\n",
       "  var force = true;\n",
       "\n",
       "  if (typeof (root._bokeh_onload_callbacks) === \"undefined\" || force === true) {\n",
       "    root._bokeh_onload_callbacks = [];\n",
       "    root._bokeh_is_loading = undefined;\n",
       "  }\n",
       "\n",
       "  var JS_MIME_TYPE = 'application/javascript';\n",
       "  var HTML_MIME_TYPE = 'text/html';\n",
       "  var EXEC_MIME_TYPE = 'application/vnd.bokehjs_exec.v0+json';\n",
       "  var CLASS_NAME = 'output_bokeh rendered_html';\n",
       "\n",
       "  /**\n",
       "   * Render data to the DOM node\n",
       "   */\n",
       "  function render(props, node) {\n",
       "    var script = document.createElement(\"script\");\n",
       "    node.appendChild(script);\n",
       "  }\n",
       "\n",
       "  /**\n",
       "   * Handle when an output is cleared or removed\n",
       "   */\n",
       "  function handleClearOutput(event, handle) {\n",
       "    var cell = handle.cell;\n",
       "\n",
       "    var id = cell.output_area._bokeh_element_id;\n",
       "    var server_id = cell.output_area._bokeh_server_id;\n",
       "    // Clean up Bokeh references\n",
       "    if (id !== undefined) {\n",
       "      Bokeh.index[id].model.document.clear();\n",
       "      delete Bokeh.index[id];\n",
       "    }\n",
       "\n",
       "    if (server_id !== undefined) {\n",
       "      // Clean up Bokeh references\n",
       "      var cmd = \"from bokeh.io.state import curstate; print(curstate().uuid_to_server['\" + server_id + \"'].get_sessions()[0].document.roots[0]._id)\";\n",
       "      cell.notebook.kernel.execute(cmd, {\n",
       "        iopub: {\n",
       "          output: function(msg) {\n",
       "            var element_id = msg.content.text.trim();\n",
       "            Bokeh.index[element_id].model.document.clear();\n",
       "            delete Bokeh.index[element_id];\n",
       "          }\n",
       "        }\n",
       "      });\n",
       "      // Destroy server and session\n",
       "      var cmd = \"import bokeh.io.notebook as ion; ion.destroy_server('\" + server_id + \"')\";\n",
       "      cell.notebook.kernel.execute(cmd);\n",
       "    }\n",
       "  }\n",
       "\n",
       "  /**\n",
       "   * Handle when a new output is added\n",
       "   */\n",
       "  function handleAddOutput(event, handle) {\n",
       "    var output_area = handle.output_area;\n",
       "    var output = handle.output;\n",
       "\n",
       "    // limit handleAddOutput to display_data with EXEC_MIME_TYPE content only\n",
       "    if ((output.output_type != \"display_data\") || (!output.data.hasOwnProperty(EXEC_MIME_TYPE))) {\n",
       "      return\n",
       "    }\n",
       "\n",
       "    var toinsert = output_area.element.find(\".\" + CLASS_NAME.split(' ')[0]);\n",
       "\n",
       "    if (output.metadata[EXEC_MIME_TYPE][\"id\"] !== undefined) {\n",
       "      toinsert[0].firstChild.textContent = output.data[JS_MIME_TYPE];\n",
       "      // store reference to embed id on output_area\n",
       "      output_area._bokeh_element_id = output.metadata[EXEC_MIME_TYPE][\"id\"];\n",
       "    }\n",
       "    if (output.metadata[EXEC_MIME_TYPE][\"server_id\"] !== undefined) {\n",
       "      var bk_div = document.createElement(\"div\");\n",
       "      bk_div.innerHTML = output.data[HTML_MIME_TYPE];\n",
       "      var script_attrs = bk_div.children[0].attributes;\n",
       "      for (var i = 0; i < script_attrs.length; i++) {\n",
       "        toinsert[0].firstChild.setAttribute(script_attrs[i].name, script_attrs[i].value);\n",
       "      }\n",
       "      // store reference to server id on output_area\n",
       "      output_area._bokeh_server_id = output.metadata[EXEC_MIME_TYPE][\"server_id\"];\n",
       "    }\n",
       "  }\n",
       "\n",
       "  function register_renderer(events, OutputArea) {\n",
       "\n",
       "    function append_mime(data, metadata, element) {\n",
       "      // create a DOM node to render to\n",
       "      var toinsert = this.create_output_subarea(\n",
       "        metadata,\n",
       "        CLASS_NAME,\n",
       "        EXEC_MIME_TYPE\n",
       "      );\n",
       "      this.keyboard_manager.register_events(toinsert);\n",
       "      // Render to node\n",
       "      var props = {data: data, metadata: metadata[EXEC_MIME_TYPE]};\n",
       "      render(props, toinsert[0]);\n",
       "      element.append(toinsert);\n",
       "      return toinsert\n",
       "    }\n",
       "\n",
       "    /* Handle when an output is cleared or removed */\n",
       "    events.on('clear_output.CodeCell', handleClearOutput);\n",
       "    events.on('delete.Cell', handleClearOutput);\n",
       "\n",
       "    /* Handle when a new output is added */\n",
       "    events.on('output_added.OutputArea', handleAddOutput);\n",
       "\n",
       "    /**\n",
       "     * Register the mime type and append_mime function with output_area\n",
       "     */\n",
       "    OutputArea.prototype.register_mime_type(EXEC_MIME_TYPE, append_mime, {\n",
       "      /* Is output safe? */\n",
       "      safe: true,\n",
       "      /* Index of renderer in `output_area.display_order` */\n",
       "      index: 0\n",
       "    });\n",
       "  }\n",
       "\n",
       "  // register the mime type if in Jupyter Notebook environment and previously unregistered\n",
       "  if (root.Jupyter !== undefined) {\n",
       "    var events = require('base/js/events');\n",
       "    var OutputArea = require('notebook/js/outputarea').OutputArea;\n",
       "\n",
       "    if (OutputArea.prototype.mime_types().indexOf(EXEC_MIME_TYPE) == -1) {\n",
       "      register_renderer(events, OutputArea);\n",
       "    }\n",
       "  }\n",
       "\n",
       "  \n",
       "  if (typeof (root._bokeh_timeout) === \"undefined\" || force === true) {\n",
       "    root._bokeh_timeout = Date.now() + 5000;\n",
       "    root._bokeh_failed_load = false;\n",
       "  }\n",
       "\n",
       "  var NB_LOAD_WARNING = {'data': {'text/html':\n",
       "     \"<div style='background-color: #fdd'>\\n\"+\n",
       "     \"<p>\\n\"+\n",
       "     \"BokehJS does not appear to have successfully loaded. If loading BokehJS from CDN, this \\n\"+\n",
       "     \"may be due to a slow or bad network connection. Possible fixes:\\n\"+\n",
       "     \"</p>\\n\"+\n",
       "     \"<ul>\\n\"+\n",
       "     \"<li>re-rerun `output_notebook()` to attempt to load from CDN again, or</li>\\n\"+\n",
       "     \"<li>use INLINE resources instead, as so:</li>\\n\"+\n",
       "     \"</ul>\\n\"+\n",
       "     \"<code>\\n\"+\n",
       "     \"from bokeh.resources import INLINE\\n\"+\n",
       "     \"output_notebook(resources=INLINE)\\n\"+\n",
       "     \"</code>\\n\"+\n",
       "     \"</div>\"}};\n",
       "\n",
       "  function display_loaded() {\n",
       "    var el = document.getElementById(\"dce0769f-6d6d-4ab2-a3ed-3dcfa7e212ec\");\n",
       "    if (el != null) {\n",
       "      el.textContent = \"BokehJS is loading...\";\n",
       "    }\n",
       "    if (root.Bokeh !== undefined) {\n",
       "      if (el != null) {\n",
       "        el.textContent = \"BokehJS \" + root.Bokeh.version + \" successfully loaded.\";\n",
       "      }\n",
       "    } else if (Date.now() < root._bokeh_timeout) {\n",
       "      setTimeout(display_loaded, 100)\n",
       "    }\n",
       "  }\n",
       "\n",
       "\n",
       "  function run_callbacks() {\n",
       "    try {\n",
       "      root._bokeh_onload_callbacks.forEach(function(callback) { callback() });\n",
       "    }\n",
       "    finally {\n",
       "      delete root._bokeh_onload_callbacks\n",
       "    }\n",
       "    console.info(\"Bokeh: all callbacks have finished\");\n",
       "  }\n",
       "\n",
       "  function load_libs(js_urls, callback) {\n",
       "    root._bokeh_onload_callbacks.push(callback);\n",
       "    if (root._bokeh_is_loading > 0) {\n",
       "      console.log(\"Bokeh: BokehJS is being loaded, scheduling callback at\", now());\n",
       "      return null;\n",
       "    }\n",
       "    if (js_urls == null || js_urls.length === 0) {\n",
       "      run_callbacks();\n",
       "      return null;\n",
       "    }\n",
       "    console.log(\"Bokeh: BokehJS not loaded, scheduling load and callback at\", now());\n",
       "    root._bokeh_is_loading = js_urls.length;\n",
       "    for (var i = 0; i < js_urls.length; i++) {\n",
       "      var url = js_urls[i];\n",
       "      var s = document.createElement('script');\n",
       "      s.src = url;\n",
       "      s.async = false;\n",
       "      s.onreadystatechange = s.onload = function() {\n",
       "        root._bokeh_is_loading--;\n",
       "        if (root._bokeh_is_loading === 0) {\n",
       "          console.log(\"Bokeh: all BokehJS libraries loaded\");\n",
       "          run_callbacks()\n",
       "        }\n",
       "      };\n",
       "      s.onerror = function() {\n",
       "        console.warn(\"failed to load library \" + url);\n",
       "      };\n",
       "      console.log(\"Bokeh: injecting script tag for BokehJS library: \", url);\n",
       "      document.getElementsByTagName(\"head\")[0].appendChild(s);\n",
       "    }\n",
       "  };var element = document.getElementById(\"dce0769f-6d6d-4ab2-a3ed-3dcfa7e212ec\");\n",
       "  if (element == null) {\n",
       "    console.log(\"Bokeh: ERROR: autoload.js configured with elementid 'dce0769f-6d6d-4ab2-a3ed-3dcfa7e212ec' but no matching script tag was found. \")\n",
       "    return false;\n",
       "  }\n",
       "\n",
       "  var js_urls = [\"https://cdn.pydata.org/bokeh/release/bokeh-0.12.14.min.js\", \"https://cdn.pydata.org/bokeh/release/bokeh-widgets-0.12.14.min.js\", \"https://cdn.pydata.org/bokeh/release/bokeh-tables-0.12.14.min.js\", \"https://cdn.pydata.org/bokeh/release/bokeh-gl-0.12.14.min.js\"];\n",
       "\n",
       "  var inline_js = [\n",
       "    function(Bokeh) {\n",
       "      Bokeh.set_log_level(\"info\");\n",
       "    },\n",
       "    \n",
       "    function(Bokeh) {\n",
       "      \n",
       "    },\n",
       "    function(Bokeh) {\n",
       "      console.log(\"Bokeh: injecting CSS: https://cdn.pydata.org/bokeh/release/bokeh-0.12.14.min.css\");\n",
       "      Bokeh.embed.inject_css(\"https://cdn.pydata.org/bokeh/release/bokeh-0.12.14.min.css\");\n",
       "      console.log(\"Bokeh: injecting CSS: https://cdn.pydata.org/bokeh/release/bokeh-widgets-0.12.14.min.css\");\n",
       "      Bokeh.embed.inject_css(\"https://cdn.pydata.org/bokeh/release/bokeh-widgets-0.12.14.min.css\");\n",
       "      console.log(\"Bokeh: injecting CSS: https://cdn.pydata.org/bokeh/release/bokeh-tables-0.12.14.min.css\");\n",
       "      Bokeh.embed.inject_css(\"https://cdn.pydata.org/bokeh/release/bokeh-tables-0.12.14.min.css\");\n",
       "    }\n",
       "  ];\n",
       "\n",
       "  function run_inline_js() {\n",
       "    \n",
       "    if ((root.Bokeh !== undefined) || (force === true)) {\n",
       "      for (var i = 0; i < inline_js.length; i++) {\n",
       "        inline_js[i].call(root, root.Bokeh);\n",
       "      }if (force === true) {\n",
       "        display_loaded();\n",
       "      }} else if (Date.now() < root._bokeh_timeout) {\n",
       "      setTimeout(run_inline_js, 100);\n",
       "    } else if (!root._bokeh_failed_load) {\n",
       "      console.log(\"Bokeh: BokehJS failed to load within specified timeout.\");\n",
       "      root._bokeh_failed_load = true;\n",
       "    } else if (force !== true) {\n",
       "      var cell = $(document.getElementById(\"dce0769f-6d6d-4ab2-a3ed-3dcfa7e212ec\")).parents('.cell').data().cell;\n",
       "      cell.output_area.append_execute_result(NB_LOAD_WARNING)\n",
       "    }\n",
       "\n",
       "  }\n",
       "\n",
       "  if (root._bokeh_is_loading === 0) {\n",
       "    console.log(\"Bokeh: BokehJS loaded, going straight to plotting\");\n",
       "    run_inline_js();\n",
       "  } else {\n",
       "    load_libs(js_urls, function() {\n",
       "      console.log(\"Bokeh: BokehJS plotting callback run at\", now());\n",
       "      run_inline_js();\n",
       "    });\n",
       "  }\n",
       "}(window));"
      ],
      "application/vnd.bokehjs_load.v0+json": "\n(function(root) {\n  function now() {\n    return new Date();\n  }\n\n  var force = true;\n\n  if (typeof (root._bokeh_onload_callbacks) === \"undefined\" || force === true) {\n    root._bokeh_onload_callbacks = [];\n    root._bokeh_is_loading = undefined;\n  }\n\n  \n\n  \n  if (typeof (root._bokeh_timeout) === \"undefined\" || force === true) {\n    root._bokeh_timeout = Date.now() + 5000;\n    root._bokeh_failed_load = false;\n  }\n\n  var NB_LOAD_WARNING = {'data': {'text/html':\n     \"<div style='background-color: #fdd'>\\n\"+\n     \"<p>\\n\"+\n     \"BokehJS does not appear to have successfully loaded. If loading BokehJS from CDN, this \\n\"+\n     \"may be due to a slow or bad network connection. Possible fixes:\\n\"+\n     \"</p>\\n\"+\n     \"<ul>\\n\"+\n     \"<li>re-rerun `output_notebook()` to attempt to load from CDN again, or</li>\\n\"+\n     \"<li>use INLINE resources instead, as so:</li>\\n\"+\n     \"</ul>\\n\"+\n     \"<code>\\n\"+\n     \"from bokeh.resources import INLINE\\n\"+\n     \"output_notebook(resources=INLINE)\\n\"+\n     \"</code>\\n\"+\n     \"</div>\"}};\n\n  function display_loaded() {\n    var el = document.getElementById(\"dce0769f-6d6d-4ab2-a3ed-3dcfa7e212ec\");\n    if (el != null) {\n      el.textContent = \"BokehJS is loading...\";\n    }\n    if (root.Bokeh !== undefined) {\n      if (el != null) {\n        el.textContent = \"BokehJS \" + root.Bokeh.version + \" successfully loaded.\";\n      }\n    } else if (Date.now() < root._bokeh_timeout) {\n      setTimeout(display_loaded, 100)\n    }\n  }\n\n\n  function run_callbacks() {\n    try {\n      root._bokeh_onload_callbacks.forEach(function(callback) { callback() });\n    }\n    finally {\n      delete root._bokeh_onload_callbacks\n    }\n    console.info(\"Bokeh: all callbacks have finished\");\n  }\n\n  function load_libs(js_urls, callback) {\n    root._bokeh_onload_callbacks.push(callback);\n    if (root._bokeh_is_loading > 0) {\n      console.log(\"Bokeh: BokehJS is being loaded, scheduling callback at\", now());\n      return null;\n    }\n    if (js_urls == null || js_urls.length === 0) {\n      run_callbacks();\n      return null;\n    }\n    console.log(\"Bokeh: BokehJS not loaded, scheduling load and callback at\", now());\n    root._bokeh_is_loading = js_urls.length;\n    for (var i = 0; i < js_urls.length; i++) {\n      var url = js_urls[i];\n      var s = document.createElement('script');\n      s.src = url;\n      s.async = false;\n      s.onreadystatechange = s.onload = function() {\n        root._bokeh_is_loading--;\n        if (root._bokeh_is_loading === 0) {\n          console.log(\"Bokeh: all BokehJS libraries loaded\");\n          run_callbacks()\n        }\n      };\n      s.onerror = function() {\n        console.warn(\"failed to load library \" + url);\n      };\n      console.log(\"Bokeh: injecting script tag for BokehJS library: \", url);\n      document.getElementsByTagName(\"head\")[0].appendChild(s);\n    }\n  };var element = document.getElementById(\"dce0769f-6d6d-4ab2-a3ed-3dcfa7e212ec\");\n  if (element == null) {\n    console.log(\"Bokeh: ERROR: autoload.js configured with elementid 'dce0769f-6d6d-4ab2-a3ed-3dcfa7e212ec' but no matching script tag was found. \")\n    return false;\n  }\n\n  var js_urls = [\"https://cdn.pydata.org/bokeh/release/bokeh-0.12.14.min.js\", \"https://cdn.pydata.org/bokeh/release/bokeh-widgets-0.12.14.min.js\", \"https://cdn.pydata.org/bokeh/release/bokeh-tables-0.12.14.min.js\", \"https://cdn.pydata.org/bokeh/release/bokeh-gl-0.12.14.min.js\"];\n\n  var inline_js = [\n    function(Bokeh) {\n      Bokeh.set_log_level(\"info\");\n    },\n    \n    function(Bokeh) {\n      \n    },\n    function(Bokeh) {\n      console.log(\"Bokeh: injecting CSS: https://cdn.pydata.org/bokeh/release/bokeh-0.12.14.min.css\");\n      Bokeh.embed.inject_css(\"https://cdn.pydata.org/bokeh/release/bokeh-0.12.14.min.css\");\n      console.log(\"Bokeh: injecting CSS: https://cdn.pydata.org/bokeh/release/bokeh-widgets-0.12.14.min.css\");\n      Bokeh.embed.inject_css(\"https://cdn.pydata.org/bokeh/release/bokeh-widgets-0.12.14.min.css\");\n      console.log(\"Bokeh: injecting CSS: https://cdn.pydata.org/bokeh/release/bokeh-tables-0.12.14.min.css\");\n      Bokeh.embed.inject_css(\"https://cdn.pydata.org/bokeh/release/bokeh-tables-0.12.14.min.css\");\n    }\n  ];\n\n  function run_inline_js() {\n    \n    if ((root.Bokeh !== undefined) || (force === true)) {\n      for (var i = 0; i < inline_js.length; i++) {\n        inline_js[i].call(root, root.Bokeh);\n      }if (force === true) {\n        display_loaded();\n      }} else if (Date.now() < root._bokeh_timeout) {\n      setTimeout(run_inline_js, 100);\n    } else if (!root._bokeh_failed_load) {\n      console.log(\"Bokeh: BokehJS failed to load within specified timeout.\");\n      root._bokeh_failed_load = true;\n    } else if (force !== true) {\n      var cell = $(document.getElementById(\"dce0769f-6d6d-4ab2-a3ed-3dcfa7e212ec\")).parents('.cell').data().cell;\n      cell.output_area.append_execute_result(NB_LOAD_WARNING)\n    }\n\n  }\n\n  if (root._bokeh_is_loading === 0) {\n    console.log(\"Bokeh: BokehJS loaded, going straight to plotting\");\n    run_inline_js();\n  } else {\n    load_libs(js_urls, function() {\n      console.log(\"Bokeh: BokehJS plotting callback run at\", now());\n      run_inline_js();\n    });\n  }\n}(window));"
     },
     "metadata": {},
     "output_type": "display_data"
    }
   ],
   "source": [
    "import bokeh.io\n",
    "\n",
    "bokeh.io.output_notebook()"
   ]
  },
  {
   "cell_type": "code",
   "execution_count": 2,
   "metadata": {
    "collapsed": true
   },
   "outputs": [],
   "source": [
    "import bokeh.layouts\n",
    "import bokeh.models\n",
    "import bokeh.plotting"
   ]
  },
  {
   "cell_type": "code",
   "execution_count": 3,
   "metadata": {
    "collapsed": true
   },
   "outputs": [],
   "source": [
    "import pandas as pd"
   ]
  },
  {
   "cell_type": "code",
   "execution_count": 4,
   "metadata": {},
   "outputs": [
    {
     "data": {
      "text/html": [
       "<div>\n",
       "<style scoped>\n",
       "    .dataframe tbody tr th:only-of-type {\n",
       "        vertical-align: middle;\n",
       "    }\n",
       "\n",
       "    .dataframe tbody tr th {\n",
       "        vertical-align: top;\n",
       "    }\n",
       "\n",
       "    .dataframe thead th {\n",
       "        text-align: right;\n",
       "    }\n",
       "</style>\n",
       "<table border=\"1\" class=\"dataframe\">\n",
       "  <thead>\n",
       "    <tr style=\"text-align: right;\">\n",
       "      <th></th>\n",
       "      <th>Name</th>\n",
       "      <th>Popularity</th>\n",
       "      <th>Rate</th>\n",
       "    </tr>\n",
       "  </thead>\n",
       "  <tbody>\n",
       "    <tr>\n",
       "      <th>0</th>\n",
       "      <td>xXx: Return of Xander Cage</td>\n",
       "      <td>174</td>\n",
       "      <td>5.2</td>\n",
       "    </tr>\n",
       "    <tr>\n",
       "      <th>1</th>\n",
       "      <td>Geostorm</td>\n",
       "      <td>97</td>\n",
       "      <td>5.4</td>\n",
       "    </tr>\n",
       "    <tr>\n",
       "      <th>2</th>\n",
       "      <td>The Fate of the Furious</td>\n",
       "      <td>148</td>\n",
       "      <td>6.7</td>\n",
       "    </tr>\n",
       "    <tr>\n",
       "      <th>3</th>\n",
       "      <td>The Mummy</td>\n",
       "      <td>61</td>\n",
       "      <td>5.5</td>\n",
       "    </tr>\n",
       "    <tr>\n",
       "      <th>4</th>\n",
       "      <td>Transformers: The Last Knight</td>\n",
       "      <td>177</td>\n",
       "      <td>5.2</td>\n",
       "    </tr>\n",
       "    <tr>\n",
       "      <th>5</th>\n",
       "      <td>Pirates of the Caribbean: Dead Men Tell No Tales</td>\n",
       "      <td>101</td>\n",
       "      <td>6.7</td>\n",
       "    </tr>\n",
       "    <tr>\n",
       "      <th>6</th>\n",
       "      <td>A Dog’s Purpose</td>\n",
       "      <td>914</td>\n",
       "      <td>6.9</td>\n",
       "    </tr>\n",
       "  </tbody>\n",
       "</table>\n",
       "</div>"
      ],
      "text/plain": [
       "                                               Name  Popularity  Rate\n",
       "0                        xXx: Return of Xander Cage         174   5.2\n",
       "1                                          Geostorm          97   5.4\n",
       "2                           The Fate of the Furious         148   6.7\n",
       "3                                         The Mummy          61   5.5\n",
       "4                     Transformers: The Last Knight         177   5.2\n",
       "5  Pirates of the Caribbean: Dead Men Tell No Tales         101   6.7\n",
       "6                                   A Dog’s Purpose         914   6.9"
      ]
     },
     "execution_count": 4,
     "metadata": {},
     "output_type": "execute_result"
    }
   ],
   "source": [
    "df1=pd.read_csv(\"D:\\\\school in california\\\\Aucdavis\\\\second quarter\\\\141B\\\\final project\\\\data\\\\Rating.csv\")\n",
    "df1"
   ]
  },
  {
   "cell_type": "code",
   "execution_count": 11,
   "metadata": {},
   "outputs": [
    {
     "data": {
      "text/html": [
       "<div>\n",
       "<style scoped>\n",
       "    .dataframe tbody tr th:only-of-type {\n",
       "        vertical-align: middle;\n",
       "    }\n",
       "\n",
       "    .dataframe tbody tr th {\n",
       "        vertical-align: top;\n",
       "    }\n",
       "\n",
       "    .dataframe thead th {\n",
       "        text-align: right;\n",
       "    }\n",
       "</style>\n",
       "<table border=\"1\" class=\"dataframe\">\n",
       "  <thead>\n",
       "    <tr style=\"text-align: right;\">\n",
       "      <th></th>\n",
       "      <th>Worldwide Rank</th>\n",
       "      <th>Movie</th>\n",
       "      <th>Worldwide Box Office</th>\n",
       "      <th>Domestic Box Office</th>\n",
       "      <th>International Box Office</th>\n",
       "      <th>Domestic Share</th>\n",
       "      <th>China Box Office</th>\n",
       "      <th>Chinese actor</th>\n",
       "      <th>China‘s Share</th>\n",
       "    </tr>\n",
       "  </thead>\n",
       "  <tbody>\n",
       "    <tr>\n",
       "      <th>0</th>\n",
       "      <td>26</td>\n",
       "      <td>xXx: Return of Xander Cage</td>\n",
       "      <td>345114933</td>\n",
       "      <td>44898413</td>\n",
       "      <td>300216520</td>\n",
       "      <td>0.1301</td>\n",
       "      <td>163650000</td>\n",
       "      <td>Zidan Zhen, Wu Yifan</td>\n",
       "      <td>0.545107</td>\n",
       "    </tr>\n",
       "    <tr>\n",
       "      <th>1</th>\n",
       "      <td>44</td>\n",
       "      <td>Geostorm</td>\n",
       "      <td>216000160</td>\n",
       "      <td>33700160</td>\n",
       "      <td>182300000</td>\n",
       "      <td>0.1560</td>\n",
       "      <td>65300000</td>\n",
       "      <td>Yanzu Wu</td>\n",
       "      <td>0.358201</td>\n",
       "    </tr>\n",
       "    <tr>\n",
       "      <th>2</th>\n",
       "      <td>3</td>\n",
       "      <td>The Fate of the Furious</td>\n",
       "      <td>1237466026</td>\n",
       "      <td>225764765</td>\n",
       "      <td>1011701261</td>\n",
       "      <td>0.1824</td>\n",
       "      <td>392100000</td>\n",
       "      <td>NaN</td>\n",
       "      <td>0.387565</td>\n",
       "    </tr>\n",
       "    <tr>\n",
       "      <th>3</th>\n",
       "      <td>21</td>\n",
       "      <td>The Mummy</td>\n",
       "      <td>410333326</td>\n",
       "      <td>80101125</td>\n",
       "      <td>330232201</td>\n",
       "      <td>0.1952</td>\n",
       "      <td>91500000</td>\n",
       "      <td>NaN</td>\n",
       "      <td>0.277078</td>\n",
       "    </tr>\n",
       "    <tr>\n",
       "      <th>4</th>\n",
       "      <td>16</td>\n",
       "      <td>Transformers: The Last Knight</td>\n",
       "      <td>603968683</td>\n",
       "      <td>130168683</td>\n",
       "      <td>473800000</td>\n",
       "      <td>0.2155</td>\n",
       "      <td>229460000</td>\n",
       "      <td>NaN</td>\n",
       "      <td>0.484297</td>\n",
       "    </tr>\n",
       "    <tr>\n",
       "      <th>5</th>\n",
       "      <td>11</td>\n",
       "      <td>Pirates of the Caribbean: Dead Men Tell No Tales</td>\n",
       "      <td>794758876</td>\n",
       "      <td>172558876</td>\n",
       "      <td>622200000</td>\n",
       "      <td>0.2171</td>\n",
       "      <td>172300000</td>\n",
       "      <td>NaN</td>\n",
       "      <td>0.276921</td>\n",
       "    </tr>\n",
       "    <tr>\n",
       "      <th>6</th>\n",
       "      <td>46</td>\n",
       "      <td>A Dog’s Purpose</td>\n",
       "      <td>198421890</td>\n",
       "      <td>64321890</td>\n",
       "      <td>134100000</td>\n",
       "      <td>0.3242</td>\n",
       "      <td>88730000</td>\n",
       "      <td>NaN</td>\n",
       "      <td>0.661670</td>\n",
       "    </tr>\n",
       "  </tbody>\n",
       "</table>\n",
       "</div>"
      ],
      "text/plain": [
       "   Worldwide Rank                                             Movie  \\\n",
       "0              26                        xXx: Return of Xander Cage   \n",
       "1              44                                          Geostorm   \n",
       "2               3                           The Fate of the Furious   \n",
       "3              21                                         The Mummy   \n",
       "4              16                     Transformers: The Last Knight   \n",
       "5              11  Pirates of the Caribbean: Dead Men Tell No Tales   \n",
       "6              46                                   A Dog’s Purpose   \n",
       "\n",
       "   Worldwide Box Office  Domestic Box Office  International Box Office  \\\n",
       "0             345114933             44898413                 300216520   \n",
       "1             216000160             33700160                 182300000   \n",
       "2            1237466026            225764765                1011701261   \n",
       "3             410333326             80101125                 330232201   \n",
       "4             603968683            130168683                 473800000   \n",
       "5             794758876            172558876                 622200000   \n",
       "6             198421890             64321890                 134100000   \n",
       "\n",
       "   Domestic Share  China Box Office         Chinese actor  China‘s Share  \n",
       "0          0.1301         163650000  Zidan Zhen, Wu Yifan       0.545107  \n",
       "1          0.1560          65300000              Yanzu Wu       0.358201  \n",
       "2          0.1824         392100000                   NaN       0.387565  \n",
       "3          0.1952          91500000                   NaN       0.277078  \n",
       "4          0.2155         229460000                   NaN       0.484297  \n",
       "5          0.2171         172300000                   NaN       0.276921  \n",
       "6          0.3242          88730000                   NaN       0.661670  "
      ]
     },
     "execution_count": 11,
     "metadata": {},
     "output_type": "execute_result"
    }
   ],
   "source": [
    "df2=pd.read_excel(\"D:\\\\school in california\\\\Aucdavis\\\\second quarter\\\\141B\\\\final project\\\\data\\\\movie.xlsx\")\n",
    "df2"
   ]
  },
  {
   "cell_type": "code",
   "execution_count": 17,
   "metadata": {},
   "outputs": [
    {
     "data": {
      "text/plain": [
       "0    174\n",
       "1     97\n",
       "2    148\n",
       "3     61\n",
       "4    177\n",
       "5    101\n",
       "6    914\n",
       "Name: Popularity, dtype: int64"
      ]
     },
     "execution_count": 17,
     "metadata": {},
     "output_type": "execute_result"
    }
   ],
   "source": [
    "from bokeh.models.annotations import Arrow\n",
    "from bokeh.models.arrow_heads import OpenHead, NormalHead, VeeHead\n",
    "\n",
    "p = figure(plot_width=600, plot_height=600)\n",
    "\n",
    "p.circle(x=[0, 1, 0.5], y=[0, 0, 0.7], radius=0.1,\n",
    "         color=[\"navy\", \"yellow\", \"red\"], fill_alpha=0.1)\n",
    "\n",
    "p.add_layout(Arrow(end=OpenHead(line_color=\"firebrick\", line_width=4),\n",
    "                   x_start=0, y_start=0, x_end=1, y_end=0))\n",
    "\n",
    "p.add_layout(Arrow(end=NormalHead(fill_color=\"orange\"),\n",
    "                   x_start=1, y_start=0, x_end=0.5, y_end=0.7))\n",
    "\n",
    "p.add_layout(Arrow(end=VeeHead(size=35), line_color=\"red\",\n",
    "                   x_start=0.5, y_start=0.7, x_end=0, y_end=0))\n",
    "\n",
    "show(p)"
   ]
  },
  {
   "cell_type": "code",
   "execution_count": 64,
   "metadata": {},
   "outputs": [
    {
     "data": {
      "text/plain": [
       "[174, 99, 152, 67, 185, 111, 926]"
      ]
     },
     "execution_count": 64,
     "metadata": {},
     "output_type": "execute_result"
    }
   ],
   "source": [
    "x_end"
   ]
  },
  {
   "cell_type": "code",
   "execution_count": 68,
   "metadata": {},
   "outputs": [
    {
     "ename": "TypeError",
     "evalue": "'ColumnDataSource' object is not subscriptable",
     "output_type": "error",
     "traceback": [
      "\u001b[1;31m---------------------------------------------------------------------------\u001b[0m",
      "\u001b[1;31mTypeError\u001b[0m                                 Traceback (most recent call last)",
      "\u001b[1;32m<ipython-input-68-cde0a828ad9e>\u001b[0m in \u001b[0;36m<module>\u001b[1;34m()\u001b[0m\n\u001b[1;32m----> 1\u001b[1;33m \u001b[0msource\u001b[0m\u001b[1;33m[\u001b[0m\u001b[1;34m\"temp\"\u001b[0m\u001b[1;33m]\u001b[0m\u001b[1;33m\u001b[0m\u001b[0m\n\u001b[0m",
      "\u001b[1;31mTypeError\u001b[0m: 'ColumnDataSource' object is not subscriptable"
     ]
    }
   ],
   "source": []
  },
  {
   "cell_type": "code",
   "execution_count": 79,
   "metadata": {},
   "outputs": [
    {
     "name": "stderr",
     "output_type": "stream",
     "text": [
      "C:\\my own software install\\anaconda3\\lib\\site-packages\\bokeh\\core\\json_encoder.py:80: FutureWarning: Conversion of the second argument of issubdtype from `float` to `np.floating` is deprecated. In future, it will be treated as `np.float64 == np.dtype(float).type`.\n",
      "  elif np.issubdtype(type(obj), np.float):\n"
     ]
    },
    {
     "data": {
      "text/html": [
       "\n",
       "<div class=\"bk-root\">\n",
       "    <div class=\"bk-plotdiv\" id=\"68fe6d11-2320-436d-ac40-ceeca80ea690\"></div>\n",
       "</div>"
      ]
     },
     "metadata": {},
     "output_type": "display_data"
    },
    {
     "data": {
      "application/javascript": [
       "(function(root) {\n",
       "  function embed_document(root) {\n",
       "    \n",
       "  var docs_json = {\"956a2ed0-fe62-4e00-a044-bbd20f44c9a9\":{\"roots\":{\"references\":[{\"attributes\":{\"axis_label\":\"Rate score\",\"formatter\":{\"id\":\"236d8590-ada6-4e35-9921-ffc890ed9cbf\",\"type\":\"BasicTickFormatter\"},\"plot\":{\"id\":\"804bf0f8-d558-4186-8602-57fe3e80afbe\",\"subtype\":\"Figure\",\"type\":\"Plot\"},\"ticker\":{\"id\":\"4ef82ad7-275e-4662-a47a-3a17732047df\",\"type\":\"BasicTicker\"}},\"id\":\"ec23c54f-8688-405b-b14d-800397b6775c\",\"type\":\"LinearAxis\"},{\"attributes\":{\"line_color\":{\"value\":\"red\"},\"plot\":null},\"id\":\"003725b6-28c9-4269-b85f-733fb1f487fe\",\"type\":\"OpenHead\"},{\"attributes\":{\"active_drag\":\"auto\",\"active_inspect\":\"auto\",\"active_scroll\":\"auto\",\"active_tap\":\"auto\",\"tools\":[{\"id\":\"b3e0e8d9-05fc-4c39-88ba-10ea3ec9f76e\",\"type\":\"PanTool\"},{\"id\":\"f5b4127b-1680-4e4d-85da-450bced48b1f\",\"type\":\"WheelZoomTool\"},{\"id\":\"545907c5-9173-45ba-a497-d575dfb4e213\",\"type\":\"BoxZoomTool\"},{\"id\":\"0f9ecfab-5c27-4442-bb62-155c0e90b36d\",\"type\":\"SaveTool\"},{\"id\":\"709589c3-6de3-4eda-89c0-5f3bebd08357\",\"type\":\"ResetTool\"},{\"id\":\"af255bd1-c666-4034-a73b-3a1d1e7a7ed7\",\"type\":\"HelpTool\"}]},\"id\":\"27030ccb-df34-4a0d-a522-4abf7ee5d7b8\",\"type\":\"Toolbar\"},{\"attributes\":{},\"id\":\"0f9ecfab-5c27-4442-bb62-155c0e90b36d\",\"type\":\"SaveTool\"},{\"attributes\":{\"callback\":null},\"id\":\"c7949067-4102-446f-a16c-a6e0e4f7b526\",\"type\":\"DataRange1d\"},{\"attributes\":{},\"id\":\"b3e0e8d9-05fc-4c39-88ba-10ea3ec9f76e\",\"type\":\"PanTool\"},{\"attributes\":{},\"id\":\"f5b4127b-1680-4e4d-85da-450bced48b1f\",\"type\":\"WheelZoomTool\"},{\"attributes\":{\"fill_alpha\":{\"value\":0.1},\"fill_color\":{\"value\":\"#1f77b4\"},\"line_alpha\":{\"value\":0.1},\"line_color\":{\"value\":\"#1f77b4\"},\"size\":{\"field\":\"size\",\"units\":\"screen\"},\"x\":{\"field\":\"x\"},\"y\":{\"field\":\"y\"}},\"id\":\"202301ff-c3c2-4655-99c4-6bc9dad642b0\",\"type\":\"Circle\"},{\"attributes\":{\"line_color\":{\"value\":\"red\"},\"plot\":null},\"id\":\"02e3c1bf-2fd7-4676-80c4-0922b601feb9\",\"type\":\"OpenHead\"},{\"attributes\":{\"line_color\":{\"value\":\"red\"},\"plot\":null},\"id\":\"5d8bea32-d171-43bd-9246-a3b75f235b8c\",\"type\":\"OpenHead\"},{\"attributes\":{},\"id\":\"af255bd1-c666-4034-a73b-3a1d1e7a7ed7\",\"type\":\"HelpTool\"},{\"attributes\":{\"end\":{\"id\":\"5d8bea32-d171-43bd-9246-a3b75f235b8c\",\"type\":\"OpenHead\"},\"plot\":{\"id\":\"804bf0f8-d558-4186-8602-57fe3e80afbe\",\"subtype\":\"Figure\",\"type\":\"Plot\"},\"source\":null,\"start\":null,\"x_end\":{\"value\":500},\"x_start\":{\"value\":101},\"y_end\":{\"value\":7},\"y_start\":{\"value\":6.7}},\"id\":\"842dde46-fa9c-4f4c-b726-7da240896dcb\",\"type\":\"Arrow\"},{\"attributes\":{},\"id\":\"4ef82ad7-275e-4662-a47a-3a17732047df\",\"type\":\"BasicTicker\"},{\"attributes\":{},\"id\":\"6dc229cd-86ac-4ce5-8485-2edd4d2a64e1\",\"type\":\"LinearScale\"},{\"attributes\":{},\"id\":\"f6a2f564-6558-4f17-aca9-13810eac2e67\",\"type\":\"BasicTickFormatter\"},{\"attributes\":{\"end\":{\"id\":\"02e3c1bf-2fd7-4676-80c4-0922b601feb9\",\"type\":\"OpenHead\"},\"plot\":{\"id\":\"804bf0f8-d558-4186-8602-57fe3e80afbe\",\"subtype\":\"Figure\",\"type\":\"Plot\"},\"source\":null,\"start\":null,\"x_end\":{\"value\":500},\"x_start\":{\"value\":177},\"y_end\":{\"value\":6.4},\"y_start\":{\"value\":5.2}},\"id\":\"49c77646-e966-48d4-ba38-074a4438a537\",\"type\":\"Arrow\"},{\"attributes\":{},\"id\":\"709589c3-6de3-4eda-89c0-5f3bebd08357\",\"type\":\"ResetTool\"},{\"attributes\":{\"source\":{\"id\":\"82639fb4-2a44-4e6d-be18-630a23b0436b\",\"type\":\"ColumnDataSource\"}},\"id\":\"a4a219eb-0af2-4509-9f39-c79e4c6b1b22\",\"type\":\"CDSView\"},{\"attributes\":{},\"id\":\"8a8ce3a1-88a4-42f0-9504-34d105520194\",\"type\":\"BasicTicker\"},{\"attributes\":{\"dimension\":1,\"plot\":{\"id\":\"804bf0f8-d558-4186-8602-57fe3e80afbe\",\"subtype\":\"Figure\",\"type\":\"Plot\"},\"ticker\":{\"id\":\"4ef82ad7-275e-4662-a47a-3a17732047df\",\"type\":\"BasicTicker\"}},\"id\":\"19e31fe8-6937-4e85-865f-b87aa518710a\",\"type\":\"Grid\"},{\"attributes\":{\"below\":[{\"id\":\"369715b4-bc9c-4195-b7c9-d1f452c0d47a\",\"type\":\"LinearAxis\"}],\"left\":[{\"id\":\"ec23c54f-8688-405b-b14d-800397b6775c\",\"type\":\"LinearAxis\"}],\"plot_height\":400,\"plot_width\":400,\"renderers\":[{\"id\":\"369715b4-bc9c-4195-b7c9-d1f452c0d47a\",\"type\":\"LinearAxis\"},{\"id\":\"1712569d-ade7-47fa-83fc-109105297317\",\"type\":\"Grid\"},{\"id\":\"ec23c54f-8688-405b-b14d-800397b6775c\",\"type\":\"LinearAxis\"},{\"id\":\"19e31fe8-6937-4e85-865f-b87aa518710a\",\"type\":\"Grid\"},{\"id\":\"3fa5ec10-767a-474f-a7a8-f581aa7674f7\",\"type\":\"BoxAnnotation\"},{\"id\":\"6702d92e-28ce-4101-b7d0-dde2688060dd\",\"type\":\"GlyphRenderer\"},{\"id\":\"74bd5fd4-7d11-48ba-8fa5-0c40ffe9203c\",\"type\":\"GlyphRenderer\"},{\"id\":\"1a6ae636-c1a6-472c-89cc-1286aedc2a36\",\"type\":\"LabelSet\"},{\"id\":\"c3ad64c0-75a1-436b-b236-9db9f7771d7c\",\"type\":\"Arrow\"},{\"id\":\"f6804edf-b592-43d8-90bf-c2021cee1255\",\"type\":\"Arrow\"},{\"id\":\"49c77646-e966-48d4-ba38-074a4438a537\",\"type\":\"Arrow\"},{\"id\":\"842dde46-fa9c-4f4c-b726-7da240896dcb\",\"type\":\"Arrow\"}],\"title\":{\"id\":\"79bac004-41dc-45bd-8c0c-625de239aed2\",\"type\":\"Title\"},\"toolbar\":{\"id\":\"27030ccb-df34-4a0d-a522-4abf7ee5d7b8\",\"type\":\"Toolbar\"},\"x_range\":{\"id\":\"c7949067-4102-446f-a16c-a6e0e4f7b526\",\"type\":\"DataRange1d\"},\"x_scale\":{\"id\":\"6dc229cd-86ac-4ce5-8485-2edd4d2a64e1\",\"type\":\"LinearScale\"},\"y_range\":{\"id\":\"122f35aa-ded9-4441-a6b6-8e33d0caf27c\",\"type\":\"DataRange1d\"},\"y_scale\":{\"id\":\"3cbfc296-7736-4b38-97f7-42cb90482a8a\",\"type\":\"LinearScale\"}},\"id\":\"804bf0f8-d558-4186-8602-57fe3e80afbe\",\"subtype\":\"Figure\",\"type\":\"Plot\"},{\"attributes\":{\"line_color\":{\"value\":\"red\"},\"plot\":null},\"id\":\"ccfe5f37-ca53-4319-ab32-cf263a447c2c\",\"type\":\"OpenHead\"},{\"attributes\":{\"level\":\"glyph\",\"plot\":{\"id\":\"804bf0f8-d558-4186-8602-57fe3e80afbe\",\"subtype\":\"Figure\",\"type\":\"Plot\"},\"source\":{\"id\":\"6501a5e9-6b4e-451f-a3a9-a17c5c667734\",\"type\":\"ColumnDataSource\"},\"text\":{\"field\":\"names\"},\"text_font_size\":{\"value\":\"10pt\"},\"x\":{\"field\":\"temp\"},\"x_offset\":{\"value\":5},\"y\":{\"field\":\"pressure\"},\"y_offset\":{\"value\":5}},\"id\":\"1a6ae636-c1a6-472c-89cc-1286aedc2a36\",\"type\":\"LabelSet\"},{\"attributes\":{\"callback\":null,\"column_names\":[\"x\",\"y\",\"size\"],\"data\":{\"size\":[4,3,22,8,13,17,6],\"x\":[174,97,148,61,177,101,914],\"y\":{\"__ndarray__\":\"zczMzMzMFECamZmZmZkVQM3MzMzMzBpAAAAAAAAAFkDNzMzMzMwUQM3MzMzMzBpAmpmZmZmZG0A=\",\"dtype\":\"float64\",\"shape\":[7]}}},\"id\":\"69951da8-c214-4d57-891c-0d7bab0669c9\",\"type\":\"ColumnDataSource\"},{\"attributes\":{\"data_source\":{\"id\":\"82639fb4-2a44-4e6d-be18-630a23b0436b\",\"type\":\"ColumnDataSource\"},\"glyph\":{\"id\":\"89dd6ff5-8c34-407e-bb3d-c405efe1addf\",\"type\":\"Circle\"},\"hover_glyph\":null,\"muted_glyph\":null,\"nonselection_glyph\":{\"id\":\"202301ff-c3c2-4655-99c4-6bc9dad642b0\",\"type\":\"Circle\"},\"selection_glyph\":null,\"view\":{\"id\":\"a4a219eb-0af2-4509-9f39-c79e4c6b1b22\",\"type\":\"CDSView\"}},\"id\":\"74bd5fd4-7d11-48ba-8fa5-0c40ffe9203c\",\"type\":\"GlyphRenderer\"},{\"attributes\":{\"source\":{\"id\":\"69951da8-c214-4d57-891c-0d7bab0669c9\",\"type\":\"ColumnDataSource\"}},\"id\":\"9551a225-c4c1-4bdc-83d0-863e06c53812\",\"type\":\"CDSView\"},{\"attributes\":{\"plot\":null,\"text\":\"\"},\"id\":\"79bac004-41dc-45bd-8c0c-625de239aed2\",\"type\":\"Title\"},{\"attributes\":{\"data_source\":{\"id\":\"69951da8-c214-4d57-891c-0d7bab0669c9\",\"type\":\"ColumnDataSource\"},\"glyph\":{\"id\":\"e14d2259-f97b-487f-aa7f-acf92b9c487e\",\"type\":\"Square\"},\"hover_glyph\":null,\"muted_glyph\":null,\"nonselection_glyph\":{\"id\":\"fdc5a797-645e-4f2f-a902-f9f0bb7545f5\",\"type\":\"Square\"},\"selection_glyph\":null,\"view\":{\"id\":\"9551a225-c4c1-4bdc-83d0-863e06c53812\",\"type\":\"CDSView\"}},\"id\":\"6702d92e-28ce-4101-b7d0-dde2688060dd\",\"type\":\"GlyphRenderer\"},{\"attributes\":{\"fill_alpha\":{\"value\":0.5},\"fill_color\":{\"value\":\"green\"},\"line_alpha\":{\"value\":0.5},\"line_color\":{\"value\":\"green\"},\"size\":{\"field\":\"size\",\"units\":\"screen\"},\"x\":{\"field\":\"x\"},\"y\":{\"field\":\"y\"}},\"id\":\"e14d2259-f97b-487f-aa7f-acf92b9c487e\",\"type\":\"Square\"},{\"attributes\":{\"bottom_units\":\"screen\",\"fill_alpha\":{\"value\":0.5},\"fill_color\":{\"value\":\"lightgrey\"},\"left_units\":\"screen\",\"level\":\"overlay\",\"line_alpha\":{\"value\":1.0},\"line_color\":{\"value\":\"black\"},\"line_dash\":[4,4],\"line_width\":{\"value\":2},\"plot\":null,\"render_mode\":\"css\",\"right_units\":\"screen\",\"top_units\":\"screen\"},\"id\":\"3fa5ec10-767a-474f-a7a8-f581aa7674f7\",\"type\":\"BoxAnnotation\"},{\"attributes\":{\"end\":{\"id\":\"003725b6-28c9-4269-b85f-733fb1f487fe\",\"type\":\"OpenHead\"},\"plot\":{\"id\":\"804bf0f8-d558-4186-8602-57fe3e80afbe\",\"subtype\":\"Figure\",\"type\":\"Plot\"},\"source\":null,\"start\":null,\"x_end\":{\"value\":500},\"x_start\":{\"value\":61},\"y_end\":{\"value\":6.2},\"y_start\":{\"value\":5.5}},\"id\":\"f6804edf-b592-43d8-90bf-c2021cee1255\",\"type\":\"Arrow\"},{\"attributes\":{\"callback\":null},\"id\":\"122f35aa-ded9-4441-a6b6-8e33d0caf27c\",\"type\":\"DataRange1d\"},{\"attributes\":{\"plot\":{\"id\":\"804bf0f8-d558-4186-8602-57fe3e80afbe\",\"subtype\":\"Figure\",\"type\":\"Plot\"},\"ticker\":{\"id\":\"8a8ce3a1-88a4-42f0-9504-34d105520194\",\"type\":\"BasicTicker\"}},\"id\":\"1712569d-ade7-47fa-83fc-109105297317\",\"type\":\"Grid\"},{\"attributes\":{},\"id\":\"236d8590-ada6-4e35-9921-ffc890ed9cbf\",\"type\":\"BasicTickFormatter\"},{\"attributes\":{\"end\":{\"id\":\"ccfe5f37-ca53-4319-ab32-cf263a447c2c\",\"type\":\"OpenHead\"},\"plot\":{\"id\":\"804bf0f8-d558-4186-8602-57fe3e80afbe\",\"subtype\":\"Figure\",\"type\":\"Plot\"},\"source\":null,\"start\":null,\"x_end\":{\"value\":500},\"x_start\":{\"value\":148},\"y_end\":{\"value\":6},\"y_start\":{\"value\":6.7}},\"id\":\"c3ad64c0-75a1-436b-b236-9db9f7771d7c\",\"type\":\"Arrow\"},{\"attributes\":{},\"id\":\"3cbfc296-7736-4b38-97f7-42cb90482a8a\",\"type\":\"LinearScale\"},{\"attributes\":{\"callback\":null,\"column_names\":[\"size\",\"x\",\"y\"],\"data\":{\"size\":[16,6,39,9,22,17,8],\"x\":[174,97,148,61,177,101,914],\"y\":{\"__ndarray__\":\"zczMzMzMFECamZmZmZkVQM3MzMzMzBpAAAAAAAAAFkDNzMzMzMwUQM3MzMzMzBpAmpmZmZmZG0A=\",\"dtype\":\"float64\",\"shape\":[7]}}},\"id\":\"82639fb4-2a44-4e6d-be18-630a23b0436b\",\"type\":\"ColumnDataSource\"},{\"attributes\":{\"callback\":null,\"column_names\":[\"temp\",\"pressure\",\"names\"],\"data\":{\"names\":[\"xXx: Return of Xander Cage\",\"Geostorm\",\"The Fate of the Furious\",\"The Mummy\",\"Transformers: The Last Knight\",\"Pirates of the Caribbean: Dead Men Tell No Tales\",\"A Dog\\u2019s Purpose\"],\"pressure\":[5.2,5.4,6,6.2,6.4,7,6.9],\"temp\":[174,97,500,500,500,500,914]}},\"id\":\"6501a5e9-6b4e-451f-a3a9-a17c5c667734\",\"type\":\"ColumnDataSource\"},{\"attributes\":{\"overlay\":{\"id\":\"3fa5ec10-767a-474f-a7a8-f581aa7674f7\",\"type\":\"BoxAnnotation\"}},\"id\":\"545907c5-9173-45ba-a497-d575dfb4e213\",\"type\":\"BoxZoomTool\"},{\"attributes\":{\"fill_alpha\":{\"value\":0.1},\"fill_color\":{\"value\":\"#1f77b4\"},\"line_alpha\":{\"value\":0.1},\"line_color\":{\"value\":\"#1f77b4\"},\"size\":{\"field\":\"size\",\"units\":\"screen\"},\"x\":{\"field\":\"x\"},\"y\":{\"field\":\"y\"}},\"id\":\"fdc5a797-645e-4f2f-a902-f9f0bb7545f5\",\"type\":\"Square\"},{\"attributes\":{\"fill_alpha\":{\"value\":0.5},\"fill_color\":{\"value\":\"orange\"},\"line_alpha\":{\"value\":0.5},\"line_color\":{\"value\":\"orange\"},\"size\":{\"field\":\"size\",\"units\":\"screen\"},\"x\":{\"field\":\"x\"},\"y\":{\"field\":\"y\"}},\"id\":\"89dd6ff5-8c34-407e-bb3d-c405efe1addf\",\"type\":\"Circle\"},{\"attributes\":{\"axis_label\":\"Popularity score\",\"formatter\":{\"id\":\"f6a2f564-6558-4f17-aca9-13810eac2e67\",\"type\":\"BasicTickFormatter\"},\"plot\":{\"id\":\"804bf0f8-d558-4186-8602-57fe3e80afbe\",\"subtype\":\"Figure\",\"type\":\"Plot\"},\"ticker\":{\"id\":\"8a8ce3a1-88a4-42f0-9504-34d105520194\",\"type\":\"BasicTicker\"}},\"id\":\"369715b4-bc9c-4195-b7c9-d1f452c0d47a\",\"type\":\"LinearAxis\"}],\"root_ids\":[\"804bf0f8-d558-4186-8602-57fe3e80afbe\"]},\"title\":\"Bokeh Application\",\"version\":\"0.12.14\"}};\n",
       "  var render_items = [{\"docid\":\"956a2ed0-fe62-4e00-a044-bbd20f44c9a9\",\"elementid\":\"68fe6d11-2320-436d-ac40-ceeca80ea690\",\"modelid\":\"804bf0f8-d558-4186-8602-57fe3e80afbe\"}];\n",
       "  root.Bokeh.embed.embed_items_notebook(docs_json, render_items);\n",
       "\n",
       "  }\n",
       "  if (root.Bokeh !== undefined) {\n",
       "    embed_document(root);\n",
       "  } else {\n",
       "    var attempts = 0;\n",
       "    var timer = setInterval(function(root) {\n",
       "      if (root.Bokeh !== undefined) {\n",
       "        embed_document(root);\n",
       "        clearInterval(timer);\n",
       "      }\n",
       "      attempts++;\n",
       "      if (attempts > 100) {\n",
       "        console.log(\"Bokeh: ERROR: Unable to run BokehJS code because BokehJS library is missing\")\n",
       "        clearInterval(timer);\n",
       "      }\n",
       "    }, 10, root)\n",
       "  }\n",
       "})(window);"
      ],
      "application/vnd.bokehjs_exec.v0+json": ""
     },
     "metadata": {
      "application/vnd.bokehjs_exec.v0+json": {
       "id": "804bf0f8-d558-4186-8602-57fe3e80afbe"
      }
     },
     "output_type": "display_data"
    }
   ],
   "source": [
    "'''size of the points representing the box office'''\n",
    "'''color and shape of the points representing the domestic value or the Chinese one'''\n",
    "from bokeh.plotting import figure\n",
    "from bokeh.models import ColumnDataSource, LabelSet\n",
    "from bokeh.models.annotations import Arrow\n",
    "from bokeh.models.arrow_heads import OpenHead, NormalHead, VeeHead\n",
    "\n",
    "\n",
    "\n",
    "x=df1[\"Popularity\"]\n",
    "y=df1[\"Rate\"]\n",
    "x_end=[x[0],x[1],500,500,500,500,x[6]]\n",
    "y_end=[y[0],y[1],5.6,6.2,6.4,7,y[6]]\n",
    "z=df2[\"Domestic Box Office\"]\n",
    "z=[int(z[i]/(10**7)) for i in range(0,len(z))]\n",
    "w=df2[\"China Box Office\"]\n",
    "w=[int(w[i]/(10**7)) for i in range(0,len(w))]\n",
    "p = figure(plot_width=400, plot_height=400)\n",
    "\n",
    "p.square(x, y, color=\"green\", alpha=0.5,size=z)\n",
    "p.circle(x, y, color=\"orange\", alpha=0.5,size=w)\n",
    "\n",
    "p.xaxis.axis_label = 'Popularity score'\n",
    "p.yaxis.axis_label = 'Rate score'\n",
    "source = ColumnDataSource(data=dict(\n",
    "    temp=x_end,\n",
    "    pressure=y_end,\n",
    "    names=df1[\"Name\"]))\n",
    "labels = LabelSet(x='temp', y='pressure', text='names', level='glyph',text_baseline=\"bottom\",\n",
    "                  x_offset=5, y_offset=5, source=source, render_mode='canvas',text_font_size=\"10pt\")\n",
    "\n",
    "\n",
    "p.add_layout(labels)\n",
    "\n",
    "# p.add_layout(Arrow(end=OpenHead(line_color=\"red\", line_width=1),\n",
    "#                    x_start=x[0], y_start=y[0], x_end=x_end[0], y_end=y_end[0]))\n",
    "# p.add_layout(Arrow(end=OpenHead(line_color=\"red\", line_width=1),\n",
    "#                    x_start=x[1], y_start=y[1], x_end=x_end[1], y_end=y_end[1]))\n",
    "p.add_layout(Arrow(end=OpenHead(line_color=\"red\", line_width=1),\n",
    "                   x_start=x[2], y_start=y[2], x_end=x_end[2], y_end=y_end[2]))\n",
    "p.add_layout(Arrow(end=OpenHead(line_color=\"red\", line_width=1),\n",
    "                   x_start=x[3], y_start=y[3], x_end=x_end[3], y_end=y_end[3]))\n",
    "p.add_layout(Arrow(end=OpenHead(line_color=\"red\", line_width=1),\n",
    "                   x_start=x[4], y_start=y[4], x_end=x_end[4], y_end=y_end[4]))\n",
    "p.add_layout(Arrow(end=OpenHead(line_color=\"red\", line_width=1),\n",
    "                   x_start=x[5], y_start=y[5], x_end=x_end[5], y_end=y_end[5]))\n",
    "# p.add_layout(Arrow(end=OpenHead(line_color=\"red\", line_width=1),\n",
    "#                    x_start=x[6], y_start=y[6], x_end=x_end[6], y_end=y_end[6]))\n",
    "\n",
    "show(p) # show the results"
   ]
  },
  {
   "cell_type": "code",
   "execution_count": null,
   "metadata": {
    "collapsed": true
   },
   "outputs": [],
   "source": []
  },
  {
   "cell_type": "code",
   "execution_count": null,
   "metadata": {
    "collapsed": true
   },
   "outputs": [],
   "source": []
  },
  {
   "cell_type": "code",
   "execution_count": null,
   "metadata": {
    "collapsed": true
   },
   "outputs": [],
   "source": []
  },
  {
   "cell_type": "code",
   "execution_count": null,
   "metadata": {
    "collapsed": true
   },
   "outputs": [],
   "source": []
  },
  {
   "cell_type": "code",
   "execution_count": null,
   "metadata": {
    "collapsed": true
   },
   "outputs": [],
   "source": []
  },
  {
   "cell_type": "code",
   "execution_count": null,
   "metadata": {
    "collapsed": true
   },
   "outputs": [],
   "source": []
  },
  {
   "cell_type": "code",
   "execution_count": 5,
   "metadata": {
    "collapsed": true
   },
   "outputs": [],
   "source": [
    "def myfun2(x):\n",
    "    mm=x.str.split(\"$\",1,expand=True)\n",
    "    mm1=mm[1].str.replace(\",\",\"\")\n",
    "    m2=[float(item) for item in mm1]\n",
    "    return m2"
   ]
  },
  {
   "cell_type": "code",
   "execution_count": 18,
   "metadata": {
    "collapsed": true
   },
   "outputs": [],
   "source": [
    "x=myfun2(df[\"Popularity\"])"
   ]
  },
  {
   "cell_type": "code",
   "execution_count": 19,
   "metadata": {
    "collapsed": true
   },
   "outputs": [
    {
     "data": {
      "text/plain": [
       "[3830289378.0,\n",
       " 25040000.0,\n",
       " 283633664.0,\n",
       " 0.0,\n",
       " 3830289378.0,\n",
       " 133450656.0,\n",
       " 2552489126.0,\n",
       " 0.0,\n",
       " 234728472.0,\n",
       " 0.0,\n",
       " 295793713.0,\n",
       " 363720.0,\n",
       " 1587645612.0,\n",
       " 523863020.0]"
      ]
     },
     "execution_count": 19,
     "metadata": {},
     "output_type": "execute_result"
    }
   ],
   "source": [
    "y=myfun2(df[\"Rate\"])\n"
   ]
  },
  {
   "cell_type": "code",
   "execution_count": 6,
   "metadata": {},
   "outputs": [
    {
     "data": {
      "text/html": [
       "\n",
       "<div class=\"bk-root\">\n",
       "    <div class=\"bk-plotdiv\" id=\"87005b69-e693-4d34-a7bb-7271f3ed49f5\"></div>\n",
       "</div>"
      ]
     },
     "metadata": {},
     "output_type": "display_data"
    },
    {
     "data": {
      "application/javascript": [
       "(function(root) {\n",
       "  function embed_document(root) {\n",
       "    \n",
       "  var docs_json = {\"f3cf5f8d-f2cc-4568-b732-4767762345b5\":{\"roots\":{\"references\":[{\"attributes\":{},\"id\":\"abf77dbc-b19d-4b07-9578-f88bd06d8385\",\"type\":\"BasicTickFormatter\"},{\"attributes\":{\"plot\":{\"id\":\"b9ab8195-40da-4929-b7df-99045338dd97\",\"subtype\":\"Figure\",\"type\":\"Plot\"},\"ticker\":{\"id\":\"a1b17f4f-45d2-43af-9a77-2957ec012b8c\",\"type\":\"BasicTicker\"}},\"id\":\"3ecfd86c-ec7a-47bc-8ac8-845133fcb651\",\"type\":\"Grid\"},{\"attributes\":{},\"id\":\"d2186c5d-7559-4bc1-9c69-fcc0bc36bec6\",\"type\":\"BasicTickFormatter\"},{\"attributes\":{\"below\":[{\"id\":\"21a36bc9-8df4-49bf-a42f-502e203ffddc\",\"type\":\"LinearAxis\"}],\"left\":[{\"id\":\"ad543417-d98d-4e75-a11d-3976f6fe0329\",\"type\":\"LinearAxis\"}],\"renderers\":[{\"id\":\"21a36bc9-8df4-49bf-a42f-502e203ffddc\",\"type\":\"LinearAxis\"},{\"id\":\"3ecfd86c-ec7a-47bc-8ac8-845133fcb651\",\"type\":\"Grid\"},{\"id\":\"ad543417-d98d-4e75-a11d-3976f6fe0329\",\"type\":\"LinearAxis\"},{\"id\":\"2b3a292d-930c-4514-ac5d-d4fd6dbc3941\",\"type\":\"Grid\"},{\"id\":\"a68bdeb3-435d-4da3-81cb-dc7303039f2b\",\"type\":\"BoxAnnotation\"},{\"id\":\"a8ed6a42-5ad9-426e-bbaf-61c148d97b4f\",\"type\":\"Legend\"},{\"id\":\"79468242-a557-416c-a7a8-2e48f5812cc8\",\"type\":\"GlyphRenderer\"}],\"title\":{\"id\":\"d045cab9-6a8c-4779-be46-62a6ebef1fd4\",\"type\":\"Title\"},\"toolbar\":{\"id\":\"c2436bf9-bf34-40ed-9c0e-fafbaa1c3ae8\",\"type\":\"Toolbar\"},\"x_range\":{\"id\":\"8522e5ed-de2c-4adc-9571-19a24a37ebaa\",\"type\":\"DataRange1d\"},\"x_scale\":{\"id\":\"dd3c85e0-38a4-4864-b230-b694980d952b\",\"type\":\"LinearScale\"},\"y_range\":{\"id\":\"0dcd4fd9-82c1-4e54-b7c8-302703f34dd6\",\"type\":\"DataRange1d\"},\"y_scale\":{\"id\":\"885c6965-773f-42e6-97b6-9e69e125042d\",\"type\":\"LinearScale\"}},\"id\":\"b9ab8195-40da-4929-b7df-99045338dd97\",\"subtype\":\"Figure\",\"type\":\"Plot\"},{\"attributes\":{\"data_source\":{\"id\":\"cde8bf0c-95a4-4314-b847-b4fac5cae6c7\",\"type\":\"ColumnDataSource\"},\"glyph\":{\"id\":\"7c442e67-3691-46ab-a437-fd71af89e2b1\",\"type\":\"Circle\"},\"hover_glyph\":null,\"muted_glyph\":null,\"nonselection_glyph\":{\"id\":\"dd855778-fad8-4a65-a194-b7fd685ebf24\",\"type\":\"Circle\"},\"selection_glyph\":null,\"view\":{\"id\":\"023d798e-9666-4294-9761-76b6d1cce6cd\",\"type\":\"CDSView\"}},\"id\":\"79468242-a557-416c-a7a8-2e48f5812cc8\",\"type\":\"GlyphRenderer\"},{\"attributes\":{},\"id\":\"1cab5764-6b21-4f73-adb7-cbe8aab84787\",\"type\":\"SaveTool\"},{\"attributes\":{},\"id\":\"e8a480a8-cf90-4b24-aae8-0da81725a6b4\",\"type\":\"BasicTicker\"},{\"attributes\":{},\"id\":\"6eb36417-8f96-434d-879d-837a0fdd876b\",\"type\":\"ResetTool\"},{\"attributes\":{\"dimension\":1,\"plot\":{\"id\":\"b9ab8195-40da-4929-b7df-99045338dd97\",\"subtype\":\"Figure\",\"type\":\"Plot\"},\"ticker\":{\"id\":\"e8a480a8-cf90-4b24-aae8-0da81725a6b4\",\"type\":\"BasicTicker\"}},\"id\":\"2b3a292d-930c-4514-ac5d-d4fd6dbc3941\",\"type\":\"Grid\"},{\"attributes\":{\"bottom_units\":\"screen\",\"fill_alpha\":{\"value\":0.5},\"fill_color\":{\"value\":\"lightgrey\"},\"left_units\":\"screen\",\"level\":\"overlay\",\"line_alpha\":{\"value\":1.0},\"line_color\":{\"value\":\"black\"},\"line_dash\":[4,4],\"line_width\":{\"value\":2},\"plot\":null,\"render_mode\":\"css\",\"right_units\":\"screen\",\"top_units\":\"screen\"},\"id\":\"a68bdeb3-435d-4da3-81cb-dc7303039f2b\",\"type\":\"BoxAnnotation\"},{\"attributes\":{\"fill_color\":{\"value\":\"#1f77b4\"},\"line_color\":{\"value\":\"#1f77b4\"},\"line_width\":{\"value\":2},\"x\":{\"field\":\"x\"},\"y\":{\"field\":\"y\"}},\"id\":\"7c442e67-3691-46ab-a437-fd71af89e2b1\",\"type\":\"Circle\"},{\"attributes\":{\"fill_alpha\":{\"value\":0.1},\"fill_color\":{\"value\":\"#1f77b4\"},\"line_alpha\":{\"value\":0.1},\"line_color\":{\"value\":\"#1f77b4\"},\"line_width\":{\"value\":2},\"x\":{\"field\":\"x\"},\"y\":{\"field\":\"y\"}},\"id\":\"dd855778-fad8-4a65-a194-b7fd685ebf24\",\"type\":\"Circle\"},{\"attributes\":{\"items\":[{\"id\":\"89b03423-b80a-405e-b1c4-e3d37eacb94f\",\"type\":\"LegendItem\"}],\"plot\":{\"id\":\"b9ab8195-40da-4929-b7df-99045338dd97\",\"subtype\":\"Figure\",\"type\":\"Plot\"}},\"id\":\"a8ed6a42-5ad9-426e-bbaf-61c148d97b4f\",\"type\":\"Legend\"},{\"attributes\":{\"plot\":null,\"text\":\"simple line example\"},\"id\":\"d045cab9-6a8c-4779-be46-62a6ebef1fd4\",\"type\":\"Title\"},{\"attributes\":{\"source\":{\"id\":\"cde8bf0c-95a4-4314-b847-b4fac5cae6c7\",\"type\":\"ColumnDataSource\"}},\"id\":\"023d798e-9666-4294-9761-76b6d1cce6cd\",\"type\":\"CDSView\"},{\"attributes\":{},\"id\":\"a1813a06-a1cf-433f-a5f6-6ff00688ee66\",\"type\":\"HelpTool\"},{\"attributes\":{\"callback\":null},\"id\":\"8522e5ed-de2c-4adc-9571-19a24a37ebaa\",\"type\":\"DataRange1d\"},{\"attributes\":{\"active_drag\":\"auto\",\"active_inspect\":\"auto\",\"active_scroll\":\"auto\",\"active_tap\":\"auto\",\"tools\":[{\"id\":\"bd525c65-9051-45f0-b7f8-bd13ee0e7614\",\"type\":\"PanTool\"},{\"id\":\"57c895ac-261b-4b85-b1f7-3d18b9458b71\",\"type\":\"WheelZoomTool\"},{\"id\":\"7824e0b1-1370-4ee6-80f1-0a8a778d10c8\",\"type\":\"BoxZoomTool\"},{\"id\":\"1cab5764-6b21-4f73-adb7-cbe8aab84787\",\"type\":\"SaveTool\"},{\"id\":\"6eb36417-8f96-434d-879d-837a0fdd876b\",\"type\":\"ResetTool\"},{\"id\":\"a1813a06-a1cf-433f-a5f6-6ff00688ee66\",\"type\":\"HelpTool\"}]},\"id\":\"c2436bf9-bf34-40ed-9c0e-fafbaa1c3ae8\",\"type\":\"Toolbar\"},{\"attributes\":{\"axis_label\":\"y\",\"formatter\":{\"id\":\"abf77dbc-b19d-4b07-9578-f88bd06d8385\",\"type\":\"BasicTickFormatter\"},\"plot\":{\"id\":\"b9ab8195-40da-4929-b7df-99045338dd97\",\"subtype\":\"Figure\",\"type\":\"Plot\"},\"ticker\":{\"id\":\"e8a480a8-cf90-4b24-aae8-0da81725a6b4\",\"type\":\"BasicTicker\"}},\"id\":\"ad543417-d98d-4e75-a11d-3976f6fe0329\",\"type\":\"LinearAxis\"},{\"attributes\":{\"label\":{\"value\":\"Temp.\"},\"renderers\":[{\"id\":\"79468242-a557-416c-a7a8-2e48f5812cc8\",\"type\":\"GlyphRenderer\"}]},\"id\":\"89b03423-b80a-405e-b1c4-e3d37eacb94f\",\"type\":\"LegendItem\"},{\"attributes\":{},\"id\":\"dd3c85e0-38a4-4864-b230-b694980d952b\",\"type\":\"LinearScale\"},{\"attributes\":{},\"id\":\"bd525c65-9051-45f0-b7f8-bd13ee0e7614\",\"type\":\"PanTool\"},{\"attributes\":{\"callback\":null},\"id\":\"0dcd4fd9-82c1-4e54-b7c8-302703f34dd6\",\"type\":\"DataRange1d\"},{\"attributes\":{\"overlay\":{\"id\":\"a68bdeb3-435d-4da3-81cb-dc7303039f2b\",\"type\":\"BoxAnnotation\"}},\"id\":\"7824e0b1-1370-4ee6-80f1-0a8a778d10c8\",\"type\":\"BoxZoomTool\"},{\"attributes\":{},\"id\":\"885c6965-773f-42e6-97b6-9e69e125042d\",\"type\":\"LinearScale\"},{\"attributes\":{},\"id\":\"57c895ac-261b-4b85-b1f7-3d18b9458b71\",\"type\":\"WheelZoomTool\"},{\"attributes\":{\"axis_label\":\"x\",\"formatter\":{\"id\":\"d2186c5d-7559-4bc1-9c69-fcc0bc36bec6\",\"type\":\"BasicTickFormatter\"},\"plot\":{\"id\":\"b9ab8195-40da-4929-b7df-99045338dd97\",\"subtype\":\"Figure\",\"type\":\"Plot\"},\"ticker\":{\"id\":\"a1b17f4f-45d2-43af-9a77-2957ec012b8c\",\"type\":\"BasicTicker\"}},\"id\":\"21a36bc9-8df4-49bf-a42f-502e203ffddc\",\"type\":\"LinearAxis\"},{\"attributes\":{\"callback\":null,\"column_names\":[\"x\",\"y\"],\"data\":{\"x\":[174,97,148,61,177,101,914],\"y\":{\"__ndarray__\":\"zczMzMzMFECamZmZmZkVQM3MzMzMzBpAAAAAAAAAFkDNzMzMzMwUQM3MzMzMzBpAmpmZmZmZG0A=\",\"dtype\":\"float64\",\"shape\":[7]}}},\"id\":\"cde8bf0c-95a4-4314-b847-b4fac5cae6c7\",\"type\":\"ColumnDataSource\"},{\"attributes\":{},\"id\":\"a1b17f4f-45d2-43af-9a77-2957ec012b8c\",\"type\":\"BasicTicker\"}],\"root_ids\":[\"b9ab8195-40da-4929-b7df-99045338dd97\"]},\"title\":\"Bokeh Application\",\"version\":\"0.12.14\"}};\n",
       "  var render_items = [{\"docid\":\"f3cf5f8d-f2cc-4568-b732-4767762345b5\",\"elementid\":\"87005b69-e693-4d34-a7bb-7271f3ed49f5\",\"modelid\":\"b9ab8195-40da-4929-b7df-99045338dd97\"}];\n",
       "  root.Bokeh.embed.embed_items_notebook(docs_json, render_items);\n",
       "\n",
       "  }\n",
       "  if (root.Bokeh !== undefined) {\n",
       "    embed_document(root);\n",
       "  } else {\n",
       "    var attempts = 0;\n",
       "    var timer = setInterval(function(root) {\n",
       "      if (root.Bokeh !== undefined) {\n",
       "        embed_document(root);\n",
       "        clearInterval(timer);\n",
       "      }\n",
       "      attempts++;\n",
       "      if (attempts > 100) {\n",
       "        console.log(\"Bokeh: ERROR: Unable to run BokehJS code because BokehJS library is missing\")\n",
       "        clearInterval(timer);\n",
       "      }\n",
       "    }, 10, root)\n",
       "  }\n",
       "})(window);"
      ],
      "application/vnd.bokehjs_exec.v0+json": ""
     },
     "metadata": {
      "application/vnd.bokehjs_exec.v0+json": {
       "id": "b9ab8195-40da-4929-b7df-99045338dd97"
      }
     },
     "output_type": "display_data"
    }
   ],
   "source": [
    "from bokeh.plotting import figure, output_file, show\n",
    "\n",
    "\n",
    "# prepare some data\n",
    "x=df1[\"Popularity\"]\n",
    "y=df1[\"Rate\"]\n",
    "\n",
    "# output to static HTML file\n",
    "output_file(\"lines.html\")\n",
    "\n",
    "# create a new plot with a title and axis labels\n",
    "p = figure(title=\"simple line example\", x_axis_label='x', y_axis_label='y')\n",
    "\n",
    "# add a line renderer with legend and line thickness\n",
    "p.scatter(x, y, legend=\"Temp.\", line_width=2)\n",
    "\n",
    "# show the results\n",
    "show(p)"
   ]
  }
 ],
 "metadata": {
  "kernelspec": {
   "display_name": "Python 3",
   "language": "python",
   "name": "python3"
  },
  "language_info": {
   "codemirror_mode": {
    "name": "ipython",
    "version": 3
   },
   "file_extension": ".py",
   "mimetype": "text/x-python",
   "name": "python",
   "nbconvert_exporter": "python",
   "pygments_lexer": "ipython3",
   "version": "3.6.3"
  }
 },
 "nbformat": 4,
 "nbformat_minor": 2
}
