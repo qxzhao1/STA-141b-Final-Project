{
 "cells": [
  {
   "cell_type": "markdown",
   "metadata": {},
   "source": [
    "# Web data getting for comments from twitter for those 7 moives"
   ]
  },
  {
   "cell_type": "code",
   "execution_count": null,
   "metadata": {
    "collapsed": true
   },
   "outputs": [],
   "source": [
    "import lxml.html as lx\n",
    "import pandas as pd\n",
    "import requests\n",
    "import requests_cache\n",
    "import requests\n",
    "import requests_ftp\n",
    "import requests_cache\n",
    "import lxml\n",
    "from bs4 import BeautifulSoup\n",
    "from collections import Counter\n",
    "from matplotlib import pyplot as plt\n",
    "import pandas as pd\n",
    "import re"
   ]
  },
  {
   "cell_type": "code",
   "execution_count": null,
   "metadata": {
    "collapsed": true
   },
   "outputs": [],
   "source": [
    "def myfun(urlbase):\n",
    "    #urlbase = \"https://www.the-numbers.com/person/25200401-D-J-Caruso#tab=summary\"\n",
    "    '''using tags to find the data'''\n",
    "    want1= requests.get(urlbase)\n",
    "    want2 =want1.text\n",
    "    want3 =BeautifulSoup(want2,'lxml-xml')\n",
    "    want4=want3.find_all(name='span',attrs={'class':'ProfileNav-value'})\n",
    "    ans=[]\n",
    "    for i in range(0,len(want4)-1):\n",
    "        want5=want4[i].text.strip()\n",
    "        want6=re.findall(r'[0-9]+',want5)\n",
    "        want7=list(set(want6))\n",
    "        ans.append(want7)\n",
    "    result=[]\n",
    "    for j in range(0,len(ans)):\n",
    "        result.append([ans[j][0]])\n",
    "    return result"
   ]
  },
  {
   "cell_type": "code",
   "execution_count": null,
   "metadata": {
    "collapsed": true
   },
   "outputs": [],
   "source": [
    "link=[\"https://twitter.com/xxxMovie\",\n",
    "      \"https://twitter.com/GeostormMovie\",\n",
    "      \"https://twitter.com/FastFurious__8\",\n",
    "      \"https://twitter.com/themummy\",\n",
    "      \"https://twitter.com/transformers\",\n",
    "      \"https://twitter.com/kongskullisland\",\n",
    "      \"https://twitter.com/a_dogs_purpose\"]\n",
    "Tweets=[] \n",
    "Following=[] \n",
    "Followers=[] \n",
    "Likes=[]\n",
    "for l in link:\n",
    "    x=myfun(l)\n",
    "    t=x[0][0]\n",
    "    f1=x[1][0]\n",
    "    f2=x[2][0]\n",
    "    l1=x[3][0]\n",
    "    Tweets.append(t)\n",
    "    Following.append(f1) \n",
    "    Followers.append(f2)\n",
    "    Likes.append(l1)"
   ]
  },
  {
   "cell_type": "code",
   "execution_count": null,
   "metadata": {
    "collapsed": true
   },
   "outputs": [],
   "source": [
    "Name=[\"xXx: Return of Xander Cage\",\n",
    "      \"Geostorm\",\n",
    "      \"The Fate of the Furious\",\n",
    "      \"The Mummy\",\n",
    "      \"Transformers: The Last Knight\",\n",
    "      \"Kong: Skull Island\",\n",
    "      \"A Dog’s Purpose\"]"
   ]
  },
  {
   "cell_type": "code",
   "execution_count": null,
   "metadata": {
    "collapsed": true
   },
   "outputs": [],
   "source": [
    "dict={'Name':Name,\n",
    "      'Tweets':Tweets,\n",
    "      'Following':Following,\n",
    "      'Followers':Followers,\n",
    "      'Likes':Likes}\n",
    "\n",
    "Twitter = pd.DataFrame(dict)                   \n",
    "Twitter = Twitter[['Name','Tweets', 'Following', 'Followers', 'Likes']]\n",
    "Twitter['Followers'][6]=\"8039\" #Don't know why it shoows 039\n",
    "Twitter"
   ]
  },
  {
   "cell_type": "code",
   "execution_count": null,
   "metadata": {
    "collapsed": true
   },
   "outputs": [],
   "source": [
    "'''output to csv file'''\n",
    "Twitter.to_csv(\"twitter.csv\",index=False,sep=',')"
   ]
  }
 ],
 "metadata": {
  "kernelspec": {
   "display_name": "Python 3",
   "language": "python",
   "name": "python3"
  },
  "language_info": {
   "codemirror_mode": {
    "name": "ipython",
    "version": 3
   },
   "file_extension": ".py",
   "mimetype": "text/x-python",
   "name": "python",
   "nbconvert_exporter": "python",
   "pygments_lexer": "ipython3",
   "version": "3.6.3"
  }
 },
 "nbformat": 4,
 "nbformat_minor": 2
}
