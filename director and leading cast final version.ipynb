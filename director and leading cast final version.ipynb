{
 "cells": [
  {
   "cell_type": "code",
   "execution_count": 1,
   "metadata": {
    "collapsed": true
   },
   "outputs": [],
   "source": [
    "import lxml.html as lx\n",
    "import pandas as pd\n",
    "import requests\n",
    "import requests_cache\n",
    "import re\n",
    "import requests\n",
    "import requests_ftp\n",
    "import requests_cache\n",
    "import lxml\n",
    "from bs4 import BeautifulSoup\n",
    "from collections import Counter\n",
    "from matplotlib import pyplot as plt\n",
    "import pandas as pd\n",
    "plt.style.use('ggplot')\n",
    "requests_cache.install_cache('coll_cache')\n",
    "%matplotlib inline"
   ]
  },
  {
   "cell_type": "code",
   "execution_count": 2,
   "metadata": {
    "collapsed": true
   },
   "outputs": [],
   "source": [
    "def myfun(urlbase):\n",
    "    #urlbase = \"https://www.the-numbers.com/person/25200401-D-J-Caruso#tab=summary\"\n",
    "    want1= requests.get(urlbase)\n",
    "    want2 =want1.text\n",
    "    want3 =BeautifulSoup(want2,'lxml-xml')\n",
    "    want4=want3.find_all(href=re.compile(\"box-office-star-record\"))\n",
    "    result1=set([want4[i].text for x in want4 for i in range(0,len(want4))])\n",
    "    want5=want3.find_all(align=re.compile(\"right\"))\n",
    "    result2=[want5[i].text for x in want4 for i in range(0,len(want5))][0:len(result1)]\n",
    "\n",
    "    want6=want3.find_all(name=\"td\",attrs={'class':'alnright'})\n",
    "    result3=[want6[i].text for x in want6 for i in range(1,4)][0:3]\n",
    "    return result3"
   ]
  },
  {
   "cell_type": "markdown",
   "metadata": {},
   "source": [
    "for director"
   ]
  },
  {
   "cell_type": "code",
   "execution_count": 54,
   "metadata": {
    "collapsed": true
   },
   "outputs": [
    {
     "data": {
      "text/plain": [
       "({'Highest Grossing Stars of 2018',\n",
       "  'Records',\n",
       "  'Star Records',\n",
       "  'Top Grossing Director at the Domestic Box Office (Rank 101-200)',\n",
       "  'Top Grossing Director at the International Box Office (Rank 101-200)',\n",
       "  'Top Grossing Director at the Worldwide Box Office (Rank 101-200)',\n",
       "  'Top Grossing Executive Producer at the Domestic Box Office (Rank 2,901-3,000)',\n",
       "  'Top Grossing Executive Producer at the Worldwide Box Office (Rank 3,401-3,500)',\n",
       "  'Top Worldwide Leading Stars'},\n",
       " ['1', '$0', '$0', '$0', '133', '$529,512,669', '2,940', '$9,170,214', '166'],\n",
       " ['$529,512,669', '$523,863,020', '$1,053,375,689'])"
      ]
     },
     "execution_count": 54,
     "metadata": {},
     "output_type": "execute_result"
    }
   ],
   "source": [
    "myfun(\"https://www.the-numbers.com/person/25200401-D-J-Caruso#tab=summary\")\n",
    "myfun(\"https://www.the-numbers.com/person/205050401-Dean-Devlin#tab=summary\")\n",
    "myfun(\"https://www.the-numbers.com/person/57580401-F-Gary-Gray#tab=summary\")\n",
    "myfun(\"https://www.the-numbers.com/person/57580401-F-Gary-Gray#tab=summary\")\n",
    "myfun(\"https://www.the-numbers.com/person/80570401-Alex-Kurtzman#tab=summary\")\n",
    "myfun(\"https://www.the-numbers.com/person/11530401-Michael-Bay#tab=summary\")\n",
    "myfun(\"https://www.the-numbers.com/person/60610401-Lasse-HallstrA-m#tab=summary\")"
   ]
  },
  {
   "cell_type": "markdown",
   "metadata": {},
   "source": [
    "for actor and actress"
   ]
  },
  {
   "cell_type": "code",
   "execution_count": null,
   "metadata": {
    "collapsed": true
   },
   "outputs": [],
   "source": [
    "myfun(\"https://www.the-numbers.com/person/39880401-Vin-Diesel#tab=summary\")\n",
    "myfun(\"https://www.the-numbers.com/person/155860401-Donnie-Yen#tab=summary\")\n",
    "myfun(\"https://www.the-numbers.com/person/22060401-Gerard-Butler\")\n",
    "myfun(\"https://www.the-numbers.com/person/1159650401-Talitha-Bateman\")\n",
    "myfun(\"https://www.the-numbers.com/person/39880401-Vin-Diesel\")\n",
    "myfun(\"https://www.the-numbers.com/person/72720401-Dwayne-Johnson\")\n",
    "myfun(\"https://www.the-numbers.com/person/540401-Tom-Cruise\")\n",
    "myfun(\"https://www.the-numbers.com/person/487260401-Annabelle-Wallis\")\n",
    "myfun(\"https://www.the-numbers.com/person/540401-Tom-Cruise\")\n",
    "myfun(\"https://www.the-numbers.com/person/487260401-Annabelle-Wallis\")\n",
    "myfun(\"https://www.the-numbers.com/person/1650401-Mark-Wahlberg\")\n",
    "myfun(\"https://www.the-numbers.com/person/80570401-Alex-Kurtzman#tab=summary\")\n",
    "myfun(\"https://www.the-numbers.com/person/11530401-Michael-Bay#tab=summary\")\n",
    "myfun(\"https://www.the-numbers.com/person/60610401-Lasse-HallstrA-m#tab=summary\")"
   ]
  },
  {
   "cell_type": "code",
   "execution_count": 10,
   "metadata": {},
   "outputs": [],
   "source": [
    "def myfun1(url):\n",
    "    url = 'https://www.the-numbers.com/person/25200401-D-J-Caruso#tab=summary'\n",
    "    res = requests.get(url)\n",
    "    soup = BeautifulSoup(res.text, 'lxml')\n",
    "    tables = soup.select('table')\n",
    "    df_list = []\n",
    "    for table in tables:\n",
    "        df_list.append(pd.read_html(table.prettify()))\n",
    "    m=df_list[2][0]\n",
    "    return m"
   ]
  },
  {
   "cell_type": "code",
   "execution_count": 11,
   "metadata": {},
   "outputs": [
    {
     "data": {
      "text/html": [
       "<div>\n",
       "<style scoped>\n",
       "    .dataframe tbody tr th:only-of-type {\n",
       "        vertical-align: middle;\n",
       "    }\n",
       "\n",
       "    .dataframe tbody tr th {\n",
       "        vertical-align: top;\n",
       "    }\n",
       "\n",
       "    .dataframe thead th {\n",
       "        text-align: right;\n",
       "    }\n",
       "</style>\n",
       "<table border=\"1\" class=\"dataframe\">\n",
       "  <thead>\n",
       "    <tr style=\"text-align: right;\">\n",
       "      <th></th>\n",
       "      <th>0</th>\n",
       "      <th>1</th>\n",
       "      <th>2</th>\n",
       "    </tr>\n",
       "  </thead>\n",
       "  <tbody>\n",
       "    <tr>\n",
       "      <th>0</th>\n",
       "      <td>Record</td>\n",
       "      <td>Rank</td>\n",
       "      <td>Amount</td>\n",
       "    </tr>\n",
       "    <tr>\n",
       "      <th>1</th>\n",
       "      <td>Top Grossing Associate Producer at the Domesti...</td>\n",
       "      <td>886</td>\n",
       "      <td>$30,038,362</td>\n",
       "    </tr>\n",
       "    <tr>\n",
       "      <th>2</th>\n",
       "      <td>Top Grossing Director at the Domestic Box Offi...</td>\n",
       "      <td>228</td>\n",
       "      <td>$341,032,453</td>\n",
       "    </tr>\n",
       "    <tr>\n",
       "      <th>3</th>\n",
       "      <td>Top Grossing Executive Producer at the Domesti...</td>\n",
       "      <td>3004</td>\n",
       "      <td>$8,087,783</td>\n",
       "    </tr>\n",
       "    <tr>\n",
       "      <th>4</th>\n",
       "      <td>Top Grossing Producer at the Domestic Box Offi...</td>\n",
       "      <td>1772</td>\n",
       "      <td>$28,607,015</td>\n",
       "    </tr>\n",
       "    <tr>\n",
       "      <th>5</th>\n",
       "      <td>Top Grossing Screenwriter at the Domestic Box ...</td>\n",
       "      <td>2545</td>\n",
       "      <td>$2,423,467</td>\n",
       "    </tr>\n",
       "    <tr>\n",
       "      <th>6</th>\n",
       "      <td>Top Grossing Director at the International Box...</td>\n",
       "      <td>159</td>\n",
       "      <td>$545,426,963</td>\n",
       "    </tr>\n",
       "    <tr>\n",
       "      <th>7</th>\n",
       "      <td>Top Grossing Screenwriter at the International...</td>\n",
       "      <td>3083</td>\n",
       "      <td>$721,221</td>\n",
       "    </tr>\n",
       "    <tr>\n",
       "      <th>8</th>\n",
       "      <td>Top Grossing Associate Producer at the Worldwi...</td>\n",
       "      <td>1007</td>\n",
       "      <td>$30,038,362</td>\n",
       "    </tr>\n",
       "    <tr>\n",
       "      <th>9</th>\n",
       "      <td>Top Grossing Director at the Worldwide Box Off...</td>\n",
       "      <td>175</td>\n",
       "      <td>$886,459,416</td>\n",
       "    </tr>\n",
       "    <tr>\n",
       "      <th>10</th>\n",
       "      <td>Top Grossing Executive Producer at the Worldwi...</td>\n",
       "      <td>3522</td>\n",
       "      <td>$8,087,783</td>\n",
       "    </tr>\n",
       "    <tr>\n",
       "      <th>11</th>\n",
       "      <td>Top Grossing Producer at the Worldwide Box Off...</td>\n",
       "      <td>2272</td>\n",
       "      <td>$28,607,015</td>\n",
       "    </tr>\n",
       "    <tr>\n",
       "      <th>12</th>\n",
       "      <td>Top Grossing Screenwriter at the Worldwide Box...</td>\n",
       "      <td>3154</td>\n",
       "      <td>$3,144,688</td>\n",
       "    </tr>\n",
       "  </tbody>\n",
       "</table>\n",
       "</div>"
      ],
      "text/plain": [
       "                                                    0     1             2\n",
       "0                                              Record  Rank        Amount\n",
       "1   Top Grossing Associate Producer at the Domesti...   886   $30,038,362\n",
       "2   Top Grossing Director at the Domestic Box Offi...   228  $341,032,453\n",
       "3   Top Grossing Executive Producer at the Domesti...  3004    $8,087,783\n",
       "4   Top Grossing Producer at the Domestic Box Offi...  1772   $28,607,015\n",
       "5   Top Grossing Screenwriter at the Domestic Box ...  2545    $2,423,467\n",
       "6   Top Grossing Director at the International Box...   159  $545,426,963\n",
       "7   Top Grossing Screenwriter at the International...  3083      $721,221\n",
       "8   Top Grossing Associate Producer at the Worldwi...  1007   $30,038,362\n",
       "9   Top Grossing Director at the Worldwide Box Off...   175  $886,459,416\n",
       "10  Top Grossing Executive Producer at the Worldwi...  3522    $8,087,783\n",
       "11  Top Grossing Producer at the Worldwide Box Off...  2272   $28,607,015\n",
       "12  Top Grossing Screenwriter at the Worldwide Box...  3154    $3,144,688"
      ]
     },
     "execution_count": 11,
     "metadata": {},
     "output_type": "execute_result"
    }
   ],
   "source": [
    "myfun1('https://www.the-numbers.com/person/25200401-D-J-Caruso#tab=summary')"
   ]
  }
 ],
 "metadata": {
  "kernelspec": {
   "display_name": "Python 3",
   "language": "python",
   "name": "python3"
  },
  "language_info": {
   "codemirror_mode": {
    "name": "ipython",
    "version": 3
   },
   "file_extension": ".py",
   "mimetype": "text/x-python",
   "name": "python",
   "nbconvert_exporter": "python",
   "pygments_lexer": "ipython3",
   "version": "3.6.3"
  }
 },
 "nbformat": 4,
 "nbformat_minor": 2
}
