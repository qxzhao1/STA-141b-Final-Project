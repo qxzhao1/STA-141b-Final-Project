{
 "cells": [
  {
   "cell_type": "code",
   "execution_count": 10,
   "metadata": {
    "collapsed": true
   },
   "outputs": [],
   "source": [
    "import lxml.html as lx\n",
    "import pandas as pd\n",
    "import requests\n",
    "import requests_cache\n",
    "import requests\n",
    "import requests_ftp\n",
    "import requests_cache\n",
    "import lxml\n",
    "from bs4 import BeautifulSoup\n",
    "from collections import Counter\n",
    "from matplotlib import pyplot as plt\n",
    "import pandas as pd\n",
    "plt.style.use('ggplot')\n",
    "requests_cache.install_cache('coll_cache')\n",
    "%matplotlib inline\n",
    "import re"
   ]
  },
  {
   "cell_type": "code",
   "execution_count": 14,
   "metadata": {
    "collapsed": true
   },
   "outputs": [],
   "source": [
    "def myfun(urlbase):\n",
    "    #urlbase = \"https://www.the-numbers.com/person/25200401-D-J-Caruso#tab=summary\"\n",
    "    want1= requests.get(urlbase)\n",
    "    want2 =want1.text\n",
    "    want3 =BeautifulSoup(want2,'lxml-xml')\n",
    "    want4=want3.find_all(name='span',attrs={'class':'ProfileNav-value'})\n",
    "    ans=[]\n",
    "    for i in range(0,len(want4)-1):\n",
    "        want5=want4[i].text.strip()\n",
    "        want6=re.findall(r'[0-9]+',want5)\n",
    "        want7=list(set(want6))\n",
    "        ans.append(want7)\n",
    "    result=[]\n",
    "    for j in range(0,len(ans)):\n",
    "        result.append([ans[j][0]])\n",
    "    return result"
   ]
  },
  {
   "cell_type": "markdown",
   "metadata": {},
   "source": [
    "order: Tweets, Following, Followers, Likes"
   ]
  },
  {
   "cell_type": "code",
   "execution_count": 37,
   "metadata": {},
   "outputs": [],
   "source": [
    "link=[\"https://twitter.com/xxxMovie\",\n",
    "      \"https://twitter.com/GeostormMovie\",\n",
    "      \"https://twitter.com/FastFurious__8\",\n",
    "      \"https://twitter.com/themummy\",\n",
    "      \"https://twitter.com/transformers\",\n",
    "      \"https://twitter.com/DisneyPirates\",\n",
    "      \"https://twitter.com/a_dogs_purpose\"]\n",
    "Tweets=[] \n",
    "Following=[] \n",
    "Followers=[] \n",
    "Likes=[]\n",
    "for l in link:\n",
    "    x=myfun(l)\n",
    "    t=x[0][0]\n",
    "    f1=x[1][0]\n",
    "    f2=x[2][0]\n",
    "    l1=x[3][0]\n",
    "    Tweets.append(t)\n",
    "    Following.append(f1) \n",
    "    Followers.append(f2)\n",
    "    Likes.append(l1)"
   ]
  },
  {
   "cell_type": "code",
   "execution_count": 38,
   "metadata": {
    "collapsed": true
   },
   "outputs": [],
   "source": [
    "Name=[\"xXx: Return of Xander Cage\",\n",
    "      \"Geostorm\",\n",
    "      \"The Fate of the Furious\",\n",
    "      \"The Mummy\",\n",
    "      \"Transformers: The Last Knight\",\n",
    "      \"Pirates of the Caribbean: Dead Men Tell No Tales\",\n",
    "      \"A Dog’s Purpose\"]"
   ]
  },
  {
   "cell_type": "code",
   "execution_count": 40,
   "metadata": {},
   "outputs": [
    {
     "data": {
      "text/html": [
       "<div>\n",
       "<style scoped>\n",
       "    .dataframe tbody tr th:only-of-type {\n",
       "        vertical-align: middle;\n",
       "    }\n",
       "\n",
       "    .dataframe tbody tr th {\n",
       "        vertical-align: top;\n",
       "    }\n",
       "\n",
       "    .dataframe thead th {\n",
       "        text-align: right;\n",
       "    }\n",
       "</style>\n",
       "<table border=\"1\" class=\"dataframe\">\n",
       "  <thead>\n",
       "    <tr style=\"text-align: right;\">\n",
       "      <th></th>\n",
       "      <th>Name</th>\n",
       "      <th>Tweets</th>\n",
       "      <th>Following</th>\n",
       "      <th>Followers</th>\n",
       "      <th>Likes</th>\n",
       "    </tr>\n",
       "  </thead>\n",
       "  <tbody>\n",
       "    <tr>\n",
       "      <th>0</th>\n",
       "      <td>xXx: Return of Xander Cage</td>\n",
       "      <td>419</td>\n",
       "      <td>46</td>\n",
       "      <td>25</td>\n",
       "      <td>287</td>\n",
       "    </tr>\n",
       "    <tr>\n",
       "      <th>1</th>\n",
       "      <td>Geostorm</td>\n",
       "      <td>128</td>\n",
       "      <td>5</td>\n",
       "      <td>969</td>\n",
       "      <td>2</td>\n",
       "    </tr>\n",
       "    <tr>\n",
       "      <th>2</th>\n",
       "      <td>The Fate of the Furious</td>\n",
       "      <td>37</td>\n",
       "      <td>836</td>\n",
       "      <td>941</td>\n",
       "      <td>147</td>\n",
       "    </tr>\n",
       "    <tr>\n",
       "      <th>3</th>\n",
       "      <td>The Mummy</td>\n",
       "      <td>219</td>\n",
       "      <td>19</td>\n",
       "      <td>3</td>\n",
       "      <td>168</td>\n",
       "    </tr>\n",
       "    <tr>\n",
       "      <th>4</th>\n",
       "      <td>Transformers: The Last Knight</td>\n",
       "      <td>243</td>\n",
       "      <td>230</td>\n",
       "      <td>265802</td>\n",
       "      <td>2026</td>\n",
       "    </tr>\n",
       "    <tr>\n",
       "      <th>5</th>\n",
       "      <td>Pirates of the Caribbean: Dead Men Tell No Tales</td>\n",
       "      <td>442</td>\n",
       "      <td>33</td>\n",
       "      <td>38481</td>\n",
       "      <td>159</td>\n",
       "    </tr>\n",
       "    <tr>\n",
       "      <th>6</th>\n",
       "      <td>A Dog’s Purpose</td>\n",
       "      <td>1057</td>\n",
       "      <td>22</td>\n",
       "      <td>8039</td>\n",
       "      <td>148</td>\n",
       "    </tr>\n",
       "  </tbody>\n",
       "</table>\n",
       "</div>"
      ],
      "text/plain": [
       "                                               Name Tweets Following  \\\n",
       "0                        xXx: Return of Xander Cage    419        46   \n",
       "1                                          Geostorm    128         5   \n",
       "2                           The Fate of the Furious     37       836   \n",
       "3                                         The Mummy    219        19   \n",
       "4                     Transformers: The Last Knight    243       230   \n",
       "5  Pirates of the Caribbean: Dead Men Tell No Tales    442        33   \n",
       "6                                   A Dog’s Purpose   1057        22   \n",
       "\n",
       "  Followers Likes  \n",
       "0        25   287  \n",
       "1       969     2  \n",
       "2       941   147  \n",
       "3         3   168  \n",
       "4    265802  2026  \n",
       "5     38481   159  \n",
       "6      8039   148  "
      ]
     },
     "execution_count": 40,
     "metadata": {},
     "output_type": "execute_result"
    }
   ],
   "source": [
    "dict={'Name':Name,\n",
    "      'Tweets':Tweets,\n",
    "      'Following':Following,\n",
    "      'Followers':Followers,\n",
    "      'Likes':Likes}\n",
    "\n",
    "Twitter = pd.DataFrame(dict)                   \n",
    "Twitter = boxoffice[['Name','Tweets', 'Following', 'Followers', 'Likes']]\n",
    "Twitter['Followers'][6]=\"8039\" #Don't know why it shoows 039\n",
    "Twitter"
   ]
  },
  {
   "cell_type": "markdown",
   "metadata": {},
   "source": [
    "Below can be ignored."
   ]
  },
  {
   "cell_type": "code",
   "execution_count": 4,
   "metadata": {
    "collapsed": true
   },
   "outputs": [],
   "source": [
    "myfun(\"https://twitter.com/xxxMovie\")\n",
    "myfun(\"https://twitter.com/GeostormMovie\")\n",
    "myfun(\"https://twitter.com/FastFurious__8\")\n",
    "myfun(\"https://twitter.com/themummy\")\n",
    "myfun(\"https://twitter.com/transformers\")\n",
    "myfun(\"https://twitter.com/DisneyPirates\")\n",
    "myfun(\"https://twitter.com/a_dogs_purpose\")"
   ]
  },
  {
   "cell_type": "code",
   "execution_count": 186,
   "metadata": {
    "collapsed": true
   },
   "outputs": [],
   "source": [
    "urlbase=\"https://twitter.com/xxxMovie\""
   ]
  },
  {
   "cell_type": "code",
   "execution_count": 187,
   "metadata": {
    "collapsed": true
   },
   "outputs": [],
   "source": [
    "want1= requests.get(urlbase)\n",
    "want2 =want1.text\n",
    "want3 =BeautifulSoup(want2,'lxml-xml')"
   ]
  },
  {
   "cell_type": "code",
   "execution_count": 188,
   "metadata": {
    "collapsed": true
   },
   "outputs": [],
   "source": [
    "want4=want3.find_all(name='span',attrs={'class':'ProfileNav-value'})"
   ]
  },
  {
   "cell_type": "code",
   "execution_count": 191,
   "metadata": {
    "collapsed": true
   },
   "outputs": [],
   "source": [
    "want5=want4[0].text"
   ]
  },
  {
   "cell_type": "code",
   "execution_count": 192,
   "metadata": {},
   "outputs": [
    {
     "data": {
      "text/plain": [
       "'419 data-is-compact=\"false\">419\\n            '"
      ]
     },
     "execution_count": 192,
     "metadata": {},
     "output_type": "execute_result"
    }
   ],
   "source": [
    "want5"
   ]
  },
  {
   "cell_type": "code",
   "execution_count": 197,
   "metadata": {
    "collapsed": true
   },
   "outputs": [],
   "source": [
    "want6=re.findall(r'[0-9]+',want5)"
   ]
  },
  {
   "cell_type": "code",
   "execution_count": 198,
   "metadata": {},
   "outputs": [
    {
     "data": {
      "text/plain": [
       "['419', '419']"
      ]
     },
     "execution_count": 198,
     "metadata": {},
     "output_type": "execute_result"
    }
   ],
   "source": [
    "want6"
   ]
  },
  {
   "cell_type": "code",
   "execution_count": 199,
   "metadata": {},
   "outputs": [
    {
     "data": {
      "text/plain": [
       "['419']"
      ]
     },
     "execution_count": 199,
     "metadata": {},
     "output_type": "execute_result"
    }
   ],
   "source": [
    "list(set(want6))"
   ]
  },
  {
   "cell_type": "code",
   "execution_count": 201,
   "metadata": {
    "collapsed": true
   },
   "outputs": [],
   "source": [
    "ans=[]\n",
    "for i in range(0,len(want4)-1):\n",
    "    want5=want4[i].text.strip()\n",
    "    want6=re.findall(r'[0-9]+',want5)\n",
    "    want7=list(set(want6))\n",
    "    ans.append(want7)\n",
    "    \n",
    "# result=[]\n",
    "# for j in range(0,len(ans1)):\n",
    "#     result=[ans1[0][0]]\n",
    "    "
   ]
  },
  {
   "cell_type": "code",
   "execution_count": 214,
   "metadata": {},
   "outputs": [
    {
     "data": {
      "text/plain": [
       "[['419'], ['46'], ['25058', '1', '25'], ['287']]"
      ]
     },
     "execution_count": 214,
     "metadata": {},
     "output_type": "execute_result"
    }
   ],
   "source": [
    "ans"
   ]
  },
  {
   "cell_type": "code",
   "execution_count": 216,
   "metadata": {
    "collapsed": true
   },
   "outputs": [],
   "source": [
    "result=[]\n",
    "for j in range(0,len(ans)):\n",
    "    result.append([ans[j][0]])"
   ]
  },
  {
   "cell_type": "code",
   "execution_count": 217,
   "metadata": {},
   "outputs": [
    {
     "data": {
      "text/plain": [
       "[['419'], ['46'], ['25058'], ['287']]"
      ]
     },
     "execution_count": 217,
     "metadata": {},
     "output_type": "execute_result"
    }
   ],
   "source": [
    "result"
   ]
  },
  {
   "cell_type": "code",
   "execution_count": 158,
   "metadata": {
    "collapsed": true
   },
   "outputs": [],
   "source": [
    "import numpy as np\n",
    "arr = np.arange(12).reshape((3, 4)).tolist()"
   ]
  },
  {
   "cell_type": "code",
   "execution_count": 159,
   "metadata": {},
   "outputs": [
    {
     "data": {
      "text/plain": [
       "[[0, 1, 2, 3], [4, 5, 6, 7], [8, 9, 10, 11]]"
      ]
     },
     "execution_count": 159,
     "metadata": {},
     "output_type": "execute_result"
    }
   ],
   "source": [
    "arr"
   ]
  },
  {
   "cell_type": "code",
   "execution_count": 163,
   "metadata": {},
   "outputs": [
    {
     "data": {
      "text/plain": [
       "3"
      ]
     },
     "execution_count": 163,
     "metadata": {},
     "output_type": "execute_result"
    }
   ],
   "source": [
    "len(arr)"
   ]
  },
  {
   "cell_type": "code",
   "execution_count": 165,
   "metadata": {},
   "outputs": [
    {
     "data": {
      "text/plain": [
       "[5]"
      ]
     },
     "execution_count": 165,
     "metadata": {},
     "output_type": "execute_result"
    }
   ],
   "source": [
    "[arr[1][1]]"
   ]
  }
 ],
 "metadata": {
  "kernelspec": {
   "display_name": "Python 3",
   "language": "python",
   "name": "python3"
  },
  "language_info": {
   "codemirror_mode": {
    "name": "ipython",
    "version": 3
   },
   "file_extension": ".py",
   "mimetype": "text/x-python",
   "name": "python",
   "nbconvert_exporter": "python",
   "pygments_lexer": "ipython3",
   "version": "3.6.4"
  }
 },
 "nbformat": 4,
 "nbformat_minor": 2
}
